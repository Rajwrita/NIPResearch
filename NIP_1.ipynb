{
  "nbformat": 4,
  "nbformat_minor": 0,
  "metadata": {
    "colab": {
      "name": "NIP-1.ipynb",
      "provenance": [],
      "collapsed_sections": [],
      "toc_visible": true
    },
    "kernelspec": {
      "name": "python3",
      "display_name": "Python 3"
    },
    "language_info": {
      "name": "python"
    }
  },
  "cells": [
    {
      "cell_type": "code",
      "metadata": {
        "id": "Uu5HSCvaUS1O"
      },
      "source": [
        "import pandas as pd\n",
        "import csv\n",
        "import os,json\n",
        "import networkx as nx\n",
        "import matplotlib.pyplot as plt\n",
        "#os.environ['TF_CPP_MIN_LOG_LEVEL']='2'"
      ],
      "execution_count": null,
      "outputs": []
    },
    {
      "cell_type": "code",
      "metadata": {
        "colab": {
          "base_uri": "https://localhost:8080/"
        },
        "id": "m56JRtmfQXJl",
        "outputId": "a03328af-1933-47ab-c263-c8c81f94fe1b"
      },
      "source": [
        "from google.colab import drive\n",
        "drive.mount('/content/gdrive')"
      ],
      "execution_count": null,
      "outputs": [
        {
          "output_type": "stream",
          "text": [
            "Mounted at /content/gdrive\n"
          ],
          "name": "stdout"
        }
      ]
    },
    {
      "cell_type": "code",
      "metadata": {
        "id": "1xpsG8ZqSC01"
      },
      "source": [
        "os.listdir(\"/content/gdrive/My Drive/NPPI\")\n",
        "path=\"/content/gdrive/My Drive/NPPI\""
      ],
      "execution_count": null,
      "outputs": []
    },
    {
      "cell_type": "code",
      "metadata": {
        "id": "XMaJO_fIstNy"
      },
      "source": [
        "#nx.write_gexf(G, \"test.gexf\") #READ AND WRITE LOADED GRAPH \n",
        "#G=nx.read_gexf(\"test.gexf\")"
      ],
      "execution_count": null,
      "outputs": []
    },
    {
      "cell_type": "code",
      "metadata": {
        "id": "1xXZCMo0kckX"
      },
      "source": [
        "G1=nx.Graph() #Graph initialized to plot all the nodes and edges of NIP RW dataset"
      ],
      "execution_count": null,
      "outputs": []
    },
    {
      "cell_type": "code",
      "metadata": {
        "id": "Y_JSQNP-332l"
      },
      "source": [
        "NIP_Proteins = set()"
      ],
      "execution_count": null,
      "outputs": []
    },
    {
      "cell_type": "code",
      "metadata": {
        "colab": {
          "base_uri": "https://localhost:8080/"
        },
        "id": "wrGYUiUDkesL",
        "outputId": "4c802f50-10d7-40f0-b830-b976c93f5ea6"
      },
      "source": [
        "with open(path+'/BMCData/H. sapiens/NIP-RW.txt','r') as file:\n",
        "  for i,line in enumerate(file):\n",
        "          ln=line.split(\"\\n\")[0].split()\n",
        "          G1.add_edge(ln[0],ln[1])\n",
        "\n",
        "          # reading each protein        \n",
        "          for p in ln:\n",
        "    \n",
        "              # displaying the protein          \n",
        "              #print(p) \n",
        "              NIP_Proteins.add(p.strip())\n",
        "\n",
        "print (i)\n",
        "print (len(G1.nodes), len(G1.edges))\n",
        "\n",
        "print (len(NIP_Proteins))"
      ],
      "execution_count": null,
      "outputs": [
        {
          "output_type": "stream",
          "text": [
            "6709\n",
            "2384 6710\n",
            "2384\n"
          ],
          "name": "stdout"
        }
      ]
    },
    {
      "cell_type": "code",
      "metadata": {
        "id": "r6MZs5dSoTCQ"
      },
      "source": [
        "G2=nx.Graph() #First half of the NIP RW protein pairs in G2 graph\n",
        "G3=nx.Graph() #Second half of the NIP RW protein pairs in G3 graph (-ve)"
      ],
      "execution_count": null,
      "outputs": []
    },
    {
      "cell_type": "code",
      "metadata": {
        "colab": {
          "base_uri": "https://localhost:8080/"
        },
        "id": "9SqyOYlKoYt0",
        "outputId": "e9c9890c-1fb6-482f-f024-5b6bae26fd79"
      },
      "source": [
        "with open(path+'/BMCData/H. sapiens/NIP-RW.txt','r') as file:\n",
        "  for i,line in enumerate(file):\n",
        "          if (i < 3355):\n",
        "            ln=line.split(\"\\n\")[0].split()\n",
        "            G2.add_edge(ln[0],ln[1])\n",
        "\n",
        "          else: \n",
        "            ln=line.split(\"\\n\")[0].split()\n",
        "            G3.add_edge(ln[0],ln[1])\n",
        "\n",
        "print (i)\n",
        "print (len(G2.nodes), len(G2.edges))\n",
        "print (len(G3.nodes), len(G3.edges))"
      ],
      "execution_count": null,
      "outputs": [
        {
          "output_type": "stream",
          "text": [
            "6709\n",
            "2384 3355\n",
            "1191 3355\n"
          ],
          "name": "stdout"
        }
      ]
    },
    {
      "cell_type": "code",
      "metadata": {
        "id": "RFmdZveGUyK0"
      },
      "source": [
        "#print (G3.nodes)"
      ],
      "execution_count": null,
      "outputs": []
    },
    {
      "cell_type": "code",
      "metadata": {
        "colab": {
          "resources": {
            "http://localhost:8080/nbextensions/google.colab/files.js": {
              "data": "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",
              "ok": true,
              "headers": [
                [
                  "content-type",
                  "application/javascript"
                ]
              ],
              "status": 200,
              "status_text": ""
            }
          },
          "base_uri": "https://localhost:8080/",
          "height": 55
        },
        "id": "2_wWiCRjV91D",
        "outputId": "28557f9c-3a7f-4e13-fceb-a5af51f90bab"
      },
      "source": [
        "from google.colab import files\n",
        "uploaded = files.upload()"
      ],
      "execution_count": null,
      "outputs": [
        {
          "output_type": "display_data",
          "data": {
            "text/html": [
              "\n",
              "     <input type=\"file\" id=\"files-dae0434a-2eda-4ef4-ad2a-1946b50a5bd6\" name=\"files[]\" multiple disabled\n",
              "        style=\"border:none\" />\n",
              "     <output id=\"result-dae0434a-2eda-4ef4-ad2a-1946b50a5bd6\">\n",
              "      Upload widget is only available when the cell has been executed in the\n",
              "      current browser session. Please rerun this cell to enable.\n",
              "      </output>\n",
              "      <script src=\"/nbextensions/google.colab/files.js\"></script> "
            ],
            "text/plain": [
              "<IPython.core.display.HTML object>"
            ]
          },
          "metadata": {
            "tags": []
          }
        }
      ]
    },
    {
      "cell_type": "code",
      "metadata": {
        "id": "96QYJBGJqh7c"
      },
      "source": [
        "G4=nx.Graph()\n",
        "# graph initialization for DIP data"
      ],
      "execution_count": null,
      "outputs": []
    },
    {
      "cell_type": "code",
      "metadata": {
        "id": "pdS1KX-24QCS"
      },
      "source": [
        "DIP_Proteins = set()"
      ],
      "execution_count": null,
      "outputs": []
    },
    {
      "cell_type": "code",
      "metadata": {
        "colab": {
          "base_uri": "https://localhost:8080/"
        },
        "id": "glEawiKlqZmh",
        "outputId": "e97039b6-f032-4053-d8f1-fe18c879a0db"
      },
      "source": [
        "with open(path+'/DIPData/dip.txt','r') as file:\n",
        "  for i,line in enumerate(file):\n",
        "          ln=line.split(\"\\n\")[0].split()\n",
        "          G4.add_edge(ln[0],ln[1])\n",
        "\n",
        "          # reading each protein        \n",
        "          for p in ln:\n",
        "              # displaying the protein          \n",
        "              #print(p) \n",
        "              DIP_Proteins.add(p.strip())\n",
        "\n",
        "print (i)\n",
        "print (len(G4.nodes), len(G4.edges))\n",
        "\n",
        "print(len(DIP_Proteins))\n",
        "\n",
        "#notes: total interactions: 2890\n",
        "#number of nodes: number of unique proteins: 2063"
      ],
      "execution_count": null,
      "outputs": [
        {
          "output_type": "stream",
          "text": [
            "2889\n",
            "2063 2890\n",
            "2063\n"
          ],
          "name": "stdout"
        }
      ]
    },
    {
      "cell_type": "code",
      "metadata": {
        "id": "InKW2lc_vd35"
      },
      "source": [
        "textfile = open(path+\"/DIPData/UniqueProteins.txt\", \"w\")\n",
        "for element in DIP_Proteins:\n",
        "    textfile.write(element + \"\\n\")\n",
        "textfile.close()"
      ],
      "execution_count": null,
      "outputs": []
    },
    {
      "cell_type": "code",
      "metadata": {
        "colab": {
          "base_uri": "https://localhost:8080/"
        },
        "id": "VyZg3af64-aN",
        "outputId": "4bc220eb-0709-4adb-ca38-a681877c3f8a"
      },
      "source": [
        "edges_1st = set(G2.edges())\n",
        "edges_2nd = set(G3.edges())\n",
        "edges_DIP = set(G4.edges())\n",
        "\n",
        "intersecting_edges1 = edges_1st & edges_DIP\n",
        "intersecting_edges2 = edges_2nd & edges_DIP\n",
        "print(len(intersecting_edges1))\n",
        "print(len(intersecting_edges2))\n",
        "\n",
        "#notes: The first 3355 data pairs in NIP-RW dataset are positive interaction as they intersect with DIP edges.\n",
        "# The second 3355 data pairs in NIP-RW dataset are negative interactions as they do not have any intersection with DIP edges. \n",
        "# That's fine"
      ],
      "execution_count": null,
      "outputs": [
        {
          "output_type": "stream",
          "text": [
            "1180\n",
            "0\n"
          ],
          "name": "stdout"
        }
      ]
    },
    {
      "cell_type": "code",
      "metadata": {
        "colab": {
          "base_uri": "https://localhost:8080/"
        },
        "id": "LMmLnmy_dfAL",
        "outputId": "72adb686-24f1-4195-b3f7-03dc463d2935"
      },
      "source": [
        "ALPID=list(set(list(G2.nodes())+list(G3.nodes())+list(G4.nodes())))\n",
        "print(len(ALPID))\n",
        "f=open(path+'/FastaSeq/Protein.txt',\"w\")\n",
        "f.write(\"\\n\".join(ALPID));f.close()"
      ],
      "execution_count": null,
      "outputs": [
        {
          "output_type": "stream",
          "text": [
            "2882\n"
          ],
          "name": "stdout"
        }
      ]
    },
    {
      "cell_type": "code",
      "metadata": {
        "id": "xKpcq-6XtSoj"
      },
      "source": [
        "E2=edges_DIP"
      ],
      "execution_count": null,
      "outputs": []
    },
    {
      "cell_type": "markdown",
      "metadata": {
        "id": "j2cKB_IAubvo"
      },
      "source": [
        "## Next Tasks\n",
        "####   1) Make some random edges from the set of vertices of Graph G3, as per your code in G3, we have 1191 nodes are there, so we start with this nodes and assume that the edges are represented as E1 and consider E2 contain the set of positive edges from DIP.\n",
        "####   2) Once the edges are generated find the set difference between E1 and E2 as E4 and we can compute this using following operations\n",
        "####      E3 = E1 & E2   # intersecting edges which is nothing but the positive edges, so we need to remove these edges from our generated set of random regerated edge pairs to find the initial negative set\n",
        "####      E4 = E1-E3     # subtract the intersecting set of edges(E3) from the E1 as E4 , this set (E4) represent our initial negative set\n",
        "\n",
        "\n",
        "\n"
      ]
    },
    {
      "cell_type": "markdown",
      "metadata": {
        "id": "37YRWIy6I7xZ"
      },
      "source": [
        "## One update is required in our previous task as step 0\n",
        "## We need to create the negative pair between distantly located proteins,\n",
        "## for this 1st of all we need to retrieve the location of each protein from 1191 proteins\n",
        "## simple way to do this is to submit these proteins into the uniprot and only retrieve the Subcellular location from uniprot database\n",
        "\n"
      ]
    },
    {
      "cell_type": "code",
      "metadata": {
        "id": "KRZbB4vzVOfl"
      },
      "source": [
        "def loadfile(fi):\n",
        "  l=[]\n",
        "  f=open(path+\"/SubCC/{}\".format(fi),\"r\")\n",
        "  for line in f:\n",
        "    l.append(line.split()[0])\n",
        "  return list(set(l))"
      ],
      "execution_count": null,
      "outputs": []
    },
    {
      "cell_type": "code",
      "metadata": {
        "id": "suvivJvUXMQZ"
      },
      "source": [
        "#1 Nucleus_0191.txt 7982\n",
        "#2 Mitochondrion_0173.txt 11454\n",
        "#3 Vacuole_0272.txt 4\n",
        "#4 Cyto_0086.txt 1261\n",
        "#5 ERT_0095.txt 1586\n",
        "#6 Golgi_Apar_0132.txt 205\n",
        "#7 Peroxisome_0204.txt 27"
      ],
      "execution_count": null,
      "outputs": []
    },
    {
      "cell_type": "code",
      "metadata": {
        "colab": {
          "base_uri": "https://localhost:8080/"
        },
        "id": "4Qgdw6CeUqRZ",
        "outputId": "3304608d-c900-4e53-cb57-b565eb22cf78"
      },
      "source": [
        "fl=[x for x in os.listdir(path+\"/SubCC\") if x.endswith(\".txt\")]\n",
        "ssd={}\n",
        "for i,fi in enumerate(fl):\n",
        " \n",
        "  xi=loadfile(fi)\n",
        "  for a in xi:\n",
        "    ssd[a]=i+1\n",
        "  print(i+1,fi,len(xi))\n",
        "with open(path+\"/SubCC/SubCCmap.json\",\"w\") as f:\n",
        "  json.dump(ssd,f)"
      ],
      "execution_count": null,
      "outputs": [
        {
          "output_type": "stream",
          "text": [
            "1 ERT_0095.txt 1586\n",
            "2 Cyto_0086.txt 1261\n",
            "3 Nucleus_0191.txt 7982\n",
            "4 Mitochondrion_0173.txt 11454\n",
            "5 Peroxisome_0204.txt 27\n",
            "6 Vacuole_0272.txt 4\n",
            "7 Golgi_Apar_0132.txt 205\n"
          ],
          "name": "stdout"
        }
      ]
    },
    {
      "cell_type": "code",
      "metadata": {
        "id": "0o7MHBGWz5cR",
        "colab": {
          "base_uri": "https://localhost:8080/"
        },
        "outputId": "4395e628-6f2c-4f75-decf-9672574231f5"
      },
      "source": [
        "# Step 1:\n",
        "# Generate all Pair of edges from the nodes of graph G3 (as per your earlier computation)\n",
        "L=G3.nodes\n",
        "G5=nx.Graph()\n",
        "for i,a in enumerate(L):\n",
        "  for j,b in enumerate(L):\n",
        "    if i<j and a!=b:\n",
        "      if a in ssd and b in ssd:\n",
        "        if ssd[a]!=ssd[b]:\n",
        "          G5.add_edge(a,b)\n",
        "print(len(G5.edges))\n",
        "\n",
        "#output: 52934"
      ],
      "execution_count": null,
      "outputs": [
        {
          "output_type": "stream",
          "text": [
            "52934\n"
          ],
          "name": "stdout"
        }
      ]
    },
    {
      "cell_type": "code",
      "metadata": {
        "colab": {
          "base_uri": "https://localhost:8080/"
        },
        "id": "9QEE7yl-DERT",
        "outputId": "dd26ef1a-40da-4e35-ce18-5a5e8e5665b8"
      },
      "source": [
        "E1 = set(G5.edges()) #random edges generated from Graph G3 nodes\n",
        "E2 = set(G4.edges()) #edges from DIP\n",
        "#print(len(E1))\n",
        "#print(len(E2))\n",
        "\n",
        "E3=E1 & E2  # intersecting Edges // positive edges\n",
        "E4=E1-E3    #Initial negative set\n",
        "print(len(E4))\n",
        "\n",
        "#edges reduced from 708645 to 708445 after removing intersecting edges from DIP\n",
        "#E4: initial negative set \n",
        "#output: 52934"
      ],
      "execution_count": null,
      "outputs": [
        {
          "output_type": "stream",
          "text": [
            "52934\n"
          ],
          "name": "stdout"
        }
      ]
    },
    {
      "cell_type": "code",
      "metadata": {
        "id": "0qJP5kyb_RsI",
        "colab": {
          "base_uri": "https://localhost:8080/"
        },
        "outputId": "e5babf7b-0a4f-4c5e-9b67-d336a36c5a13"
      },
      "source": [
        "EE4=[]\n",
        "for k in E4:\n",
        "  sk=[k[0],k[1],0]\n",
        "  EE4.append(sk)\n",
        "print(len(EE4))\n",
        "#output: 52934"
      ],
      "execution_count": null,
      "outputs": [
        {
          "output_type": "stream",
          "text": [
            "52934\n"
          ],
          "name": "stdout"
        }
      ]
    },
    {
      "cell_type": "code",
      "metadata": {
        "colab": {
          "base_uri": "https://localhost:8080/"
        },
        "id": "LbSOwwP8reAD",
        "outputId": "7670cdda-6354-4655-e6ae-51ad64f5e9b0"
      },
      "source": [
        "52934/3355"
      ],
      "execution_count": null,
      "outputs": [
        {
          "output_type": "execute_result",
          "data": {
            "text/plain": [
              "15.777645305514158"
            ]
          },
          "metadata": {
            "tags": []
          },
          "execution_count": 27
        }
      ]
    },
    {
      "cell_type": "code",
      "metadata": {
        "id": "1KRdRJDBYggj"
      },
      "source": [
        "with open(path+\"/traindata/ITR-1/ITR-1-Neg.json\",\"w\") as f:\n",
        "  json.dump(list(EE4),f)"
      ],
      "execution_count": null,
      "outputs": []
    },
    {
      "cell_type": "code",
      "metadata": {
        "colab": {
          "base_uri": "https://localhost:8080/"
        },
        "id": "wjnV5_8Xb2o4",
        "outputId": "a35c0e4f-c41e-4cf5-83bf-0de0b0170a21"
      },
      "source": [
        "with open(path+\"/traindata/ITR-1/ITR-1-Neg.json\",\"r\") as f:\n",
        "  EEX4=json.load(f)\n",
        "for x in EEX4:\n",
        "  print (x)\n",
        "  break  "
      ],
      "execution_count": null,
      "outputs": [
        {
          "output_type": "stream",
          "text": [
            "['P12235', 'Q8TEW0', 0]\n"
          ],
          "name": "stdout"
        }
      ]
    },
    {
      "cell_type": "code",
      "metadata": {
        "id": "1_mI6zWerpUU"
      },
      "source": [
        "import random"
      ],
      "execution_count": null,
      "outputs": []
    },
    {
      "cell_type": "code",
      "metadata": {
        "colab": {
          "base_uri": "https://localhost:8080/"
        },
        "id": "WwGmYaW_qoBV",
        "outputId": "95dbad03-9eb0-4406-a410-6b440a603441"
      },
      "source": [
        "l1=[1,3,4,7,6,11,12,14,15,56]\n",
        "S=random.sample(l1,4)\n",
        "print(S)\n",
        "S=random.sample(l1,4)\n",
        "print(S)\n",
        "S=random.sample(l1,4)\n",
        "print(S)"
      ],
      "execution_count": null,
      "outputs": [
        {
          "output_type": "stream",
          "text": [
            "[1, 15, 14, 6]\n",
            "[56, 14, 4, 6]\n",
            "[11, 56, 6, 15]\n"
          ],
          "name": "stdout"
        }
      ]
    },
    {
      "cell_type": "code",
      "metadata": {
        "id": "dVWnsvf-spI7"
      },
      "source": [
        "#print(random.sample(E4, 3)) \n",
        "#Generate 3355*5 random protein pairs from E4 list of negative protein interaction edges\n",
        "SampleNeg=random.sample(EE4, 3355*14)\n",
        "#print (SampleNeg)"
      ],
      "execution_count": null,
      "outputs": []
    },
    {
      "cell_type": "code",
      "metadata": {
        "id": "-KwuyCj2NntH"
      },
      "source": [
        "with open(path+\"/traindata/ITR-1/ITR-1-Neg_33550.json\",\"w\") as f:\n",
        "  json.dump(SampleNeg,f)\n"
      ],
      "execution_count": null,
      "outputs": []
    },
    {
      "cell_type": "code",
      "metadata": {
        "colab": {
          "base_uri": "https://localhost:8080/"
        },
        "id": "Lwn0fVN4xjef",
        "outputId": "31793345-3b8b-4248-86b8-73028f34d090"
      },
      "source": [
        "#Diving the sample negative set that is generated into two parts with 8387 protein pairs each\n",
        "length = len(SampleNeg)\n",
        "middle_index = length//2\n",
        "first_half_negative = SampleNeg[:middle_index]\n",
        "print(len(first_half_negative))\n",
        "second_half_negative= SampleNeg[middle_index:]\n",
        "print(len(second_half_negative))"
      ],
      "execution_count": null,
      "outputs": [
        {
          "output_type": "stream",
          "text": [
            "23485\n",
            "23485\n"
          ],
          "name": "stdout"
        }
      ]
    },
    {
      "cell_type": "code",
      "metadata": {
        "colab": {
          "base_uri": "https://localhost:8080/"
        },
        "id": "cl-VCcQczmtp",
        "outputId": "f604e4ae-041d-4892-c9a3-2ec5f843d9a5"
      },
      "source": [
        "#positive interacting pairs list: 3355 pairs\n",
        "print(type(list(G2.edges)))\n",
        "SP=list(G2.edges)\n",
        "\n",
        "PE4=[]\n",
        "for k in SP:\n",
        "  sk=[k[0],k[1],1]\n",
        "  PE4.append(sk)\n",
        "print(len(PE4))\n",
        "SamplePos=PE4\n",
        "#print(SamplePos)\n",
        "#print (PE4)\n",
        "\n",
        "with open(path+\"/traindata/ITR-1/ITR-1-Pos_3355.json\",\"w\") as f:\n",
        "  json.dump(SamplePos,f)\n"
      ],
      "execution_count": null,
      "outputs": [
        {
          "output_type": "stream",
          "text": [
            "<class 'list'>\n",
            "3355\n"
          ],
          "name": "stdout"
        }
      ]
    },
    {
      "cell_type": "code",
      "metadata": {
        "id": "YHOD1d0bzuF1"
      },
      "source": [
        "#Dividing the positive interacting protein pairs set (G2.edges) into two parts \n",
        "lengthpos=len(SamplePos)\n",
        "middle_index=lengthpos//2\n",
        "#print(middle_index)\n",
        "#first_half_positve = SamplePos[:middle_index]\n",
        "#second_half_positive= SamplePos[middle_index:]\n",
        "first_half_positve = SamplePos\n",
        "second_half_positive= SamplePos #[middle_index:]"
      ],
      "execution_count": null,
      "outputs": []
    },
    {
      "cell_type": "code",
      "metadata": {
        "id": "r-ytf3HWW5Ua"
      },
      "source": [
        "def JSDM(path,fn,D):\n",
        "  with open(path+fn,\"w\") as f:\n",
        "    json.dump(D,f)\n"
      ],
      "execution_count": null,
      "outputs": []
    },
    {
      "cell_type": "code",
      "metadata": {
        "id": "JS_GZAvh1dsb"
      },
      "source": [
        "#forming two sets each with the ration of 1:10 positive to negative interacting protein pairs. SampleStart1 and SampleStart2\n",
        "SampleStart1=[]\n",
        "SampleStart1.extend(first_half_positve)\n",
        "SampleStart1.extend(first_half_negative)\n",
        "\n",
        "#random.shuffle(SampleStart1)\n",
        "fn=\"/traindata/ITR-1/SetA.json\"\n",
        "JSDM(path,fn,SampleStart1)\n"
      ],
      "execution_count": null,
      "outputs": []
    },
    {
      "cell_type": "code",
      "metadata": {
        "id": "oDtlX3cA2Cf_",
        "colab": {
          "base_uri": "https://localhost:8080/"
        },
        "outputId": "6e53d877-4d61-4260-cc54-cdb7f0d2239f"
      },
      "source": [
        "SampleStart2=[]\n",
        "SampleStart2.extend(second_half_positive)\n",
        "SampleStart2.extend(second_half_negative)\n",
        "#random.shuffle(SampleStart2)\n",
        "#print(SampleStart2)\n",
        "print (len(SampleStart2))\n",
        "fn=\"/traindata/ITR-1/SetB.json\"\n",
        "JSDM(path,fn,SampleStart2)"
      ],
      "execution_count": null,
      "outputs": [
        {
          "output_type": "stream",
          "text": [
            "26840\n"
          ],
          "name": "stdout"
        }
      ]
    },
    {
      "cell_type": "code",
      "metadata": {
        "id": "waTGWfHENQz1"
      },
      "source": [
        ""
      ],
      "execution_count": null,
      "outputs": []
    }
  ]
}