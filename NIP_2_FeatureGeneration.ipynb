{
  "nbformat": 4,
  "nbformat_minor": 0,
  "metadata": {
    "colab": {
      "name": "NIP-2-FeatureGeneration.ipynb",
      "provenance": [],
      "collapsed_sections": []
    },
    "kernelspec": {
      "name": "python3",
      "display_name": "Python 3"
    },
    "language_info": {
      "name": "python"
    },
    "accelerator": "GPU"
  },
  "cells": [
    {
      "cell_type": "code",
      "metadata": {
        "id": "hZ3GJvKCamZO"
      },
      "source": [
        "import pandas as pd\n",
        "import csv\n",
        "import os,json\n",
        "import networkx as nx\n",
        "import numpy as np\n",
        "import matplotlib.pyplot as plt\n",
        "\n",
        "#os.environ['TF_CPP_MIN_LOG_LEVEL']='2'"
      ],
      "execution_count": null,
      "outputs": []
    },
    {
      "cell_type": "code",
      "metadata": {
        "colab": {
          "base_uri": "https://localhost:8080/"
        },
        "id": "cRB6eG_scOmN",
        "outputId": "ab429f47-9e57-49c6-c430-628f0faa2f93"
      },
      "source": [
        "!pip install biopython\n",
        "import Bio\n",
        "from Bio import SeqIO"
      ],
      "execution_count": null,
      "outputs": [
        {
          "output_type": "stream",
          "text": [
            "Requirement already satisfied: biopython in /usr/local/lib/python3.7/dist-packages (1.78)\n",
            "Requirement already satisfied: numpy in /usr/local/lib/python3.7/dist-packages (from biopython) (1.19.5)\n"
          ],
          "name": "stdout"
        }
      ]
    },
    {
      "cell_type": "code",
      "metadata": {
        "colab": {
          "base_uri": "https://localhost:8080/"
        },
        "id": "8EyR2_p3a28S",
        "outputId": "f9b55bde-fef7-4e8a-b53d-0e95d0eb035d"
      },
      "source": [
        "from google.colab import drive\n",
        "drive.mount('/content/gdrive',force_remount=True)"
      ],
      "execution_count": null,
      "outputs": [
        {
          "output_type": "stream",
          "text": [
            "Mounted at /content/gdrive\n"
          ],
          "name": "stdout"
        }
      ]
    },
    {
      "cell_type": "code",
      "metadata": {
        "id": "vDj5czpGa_b2"
      },
      "source": [
        "os.listdir(\"/content/gdrive/My Drive/NPPI\")\n",
        "path=\"/content/gdrive/My Drive/NPPI\""
      ],
      "execution_count": null,
      "outputs": []
    },
    {
      "cell_type": "code",
      "metadata": {
        "id": "TjrozOI2bDRa"
      },
      "source": [
        "def JSLD(path,fn):\n",
        "  with open(path+fn,\"r\") as f:\n",
        "    D=json.load(f)\n",
        "  return D"
      ],
      "execution_count": null,
      "outputs": []
    },
    {
      "cell_type": "code",
      "metadata": {
        "colab": {
          "base_uri": "https://localhost:8080/"
        },
        "id": "NZp4TcTDbvVE",
        "outputId": "19a53daf-c753-4da6-c4a9-b5ef0598ef95"
      },
      "source": [
        "SD={}\n",
        "with open(path+\"/FastaSeq/Protein.fasta\") as handle:\n",
        "    for record in SeqIO.parse(handle, \"fasta\"):\n",
        "        pid=(record.id).split(\"|\")[1]\n",
        "        seqn=str(record.seq)\n",
        "        SD[pid]=seqn\n",
        "\n",
        "print(len(SD))\n",
        "      "
      ],
      "execution_count": null,
      "outputs": [
        {
          "output_type": "stream",
          "text": [
            "2883\n"
          ],
          "name": "stdout"
        }
      ]
    },
    {
      "cell_type": "code",
      "metadata": {
        "id": "X7EpJODMXX16"
      },
      "source": [
        "def SeqEncoding(P2SQ):\n",
        "    \"\"\"  Encode Map   \"\"\"\n",
        "    FasD={\"A\":\"#\",\"G\":\"#\",\"V\":\"#\",\"C\":\"$\",\"D\":\"&\",\"E\":\"&\",\"F\":\"@\",\"I\":\"@\",\"L\":\"@\",\"P\":\"@\",\\\n",
        "          \"H\":\"*\",\"N\":\"*\",\"Q\":\"*\",\"W\":\"*\",\"K\":\"+\",\"R\":\"+\",\"M\":\"?\",\"S\":\"?\",\"T\":\"?\",\"Y\":\"?\"}\n",
        "    NC=[\"B\",\"J\",\"O\",\"U\",\"X\",\"Z\"]## Removing \n",
        "    P2ESQ={}\n",
        "    for pid in P2SQ:\n",
        "        seq=P2SQ[pid]\n",
        "        for xi in NC:\n",
        "            if xi in seq:\n",
        "                seq=seq.replace(xi,\"\")\n",
        "        EnSeq=[str(FasD[x]) for x in seq]\n",
        "        P2ESQ[pid]=\"\".join(EnSeq)\n",
        "    return P2ESQ"
      ],
      "execution_count": null,
      "outputs": []
    },
    {
      "cell_type": "code",
      "metadata": {
        "colab": {
          "base_uri": "https://localhost:8080/"
        },
        "id": "RYxdgnR7Ya76",
        "outputId": "8e750513-256d-4036-8b59-08e6c2c93b01"
      },
      "source": [
        "TrS=SeqEncoding(SD)\n",
        "print(len(TrS))"
      ],
      "execution_count": null,
      "outputs": [
        {
          "output_type": "stream",
          "text": [
            "2883\n"
          ],
          "name": "stdout"
        }
      ]
    },
    {
      "cell_type": "code",
      "metadata": {
        "id": "tFO1ylbiiAfJ"
      },
      "source": [
        "#P30504"
      ],
      "execution_count": null,
      "outputs": []
    },
    {
      "cell_type": "code",
      "metadata": {
        "colab": {
          "base_uri": "https://localhost:8080/",
          "height": 69
        },
        "id": "w1_RbCUnfskj",
        "outputId": "ff101521-886b-4310-c270-78b9a0349376"
      },
      "source": [
        "TrS['P30504']"
      ],
      "execution_count": null,
      "outputs": [
        {
          "output_type": "execute_result",
          "data": {
            "application/vnd.google.colaboratory.intrinsic+json": {
              "type": "string"
            },
            "text/plain": [
              "'?+#?#@+#@@@@@?##@#@?&?*#$?*??+?@&?##?+@#+#&@+@@?##?#&&?*@#+@&?&##?@+#&@+#@*#&*&#@&?*&+&?*+?++*#*#&+#?@+*@+#??**?&&#?*?@*+??#$&@#@&#+@@+#?&*?#?&#+&?@#@*&&@+?*?##&?##*@?*++@&##+##&*@+#?@&#?$#&*@++?@&*#+&?@*+#&@@+?*#?**@@?&*&#?@+$*#@#@?@#&@?@?**+&#&&*?*&?&@#&?+@##&#?@*+*#####@?#*&*+??$*?**&#@*&@@?@?*&@??*@?@@@?#@###@##@##@##@####?#??$+++??##+##?$?*##$?*?#*#?&&?@@?$+#'"
            ]
          },
          "metadata": {
            "tags": []
          },
          "execution_count": 14
        }
      ]
    },
    {
      "cell_type": "code",
      "metadata": {
        "id": "-dfT777XY_Y8"
      },
      "source": [
        "global TrAA\n",
        "def genRedSeqFeat():    \n",
        "    A=[\"#\",\"$\",\"@\",\"&\",\"*\",\"+\",\"?\"]\n",
        "    TrAA=[]\n",
        "    for i in A:\n",
        "        for j in A:\n",
        "            for k in A:\n",
        "                TrAA.append(i+j+k)\n",
        "    return TrAA\n",
        "TrAA= genRedSeqFeat()  \n",
        "\n",
        "def getFrq(seq):\n",
        "    global TrAA; FrqMA=[]\n",
        "    for fet in TrAA:\n",
        "        FrqMA.append(seq.count(fet))\n",
        "    return(FrqMA)\n",
        "    \n",
        "#cmpMinLen = lambda A, B :len([i for i in range(len(A)) if min(A[i],B[i])>0])\n",
        "\n",
        "def MutualFreq(A,B):\n",
        "    L=[]\n",
        "    for i in range(len(A)):\n",
        "        x=A[i];y=B[i];sc=0\n",
        "        if (x and y):sc=-(min(x,y)/max(x,y))* np.log(min(x,y)/(x+y))\n",
        "        L.append(sc)\n",
        "    return L\n"
      ],
      "execution_count": null,
      "outputs": []
    },
    {
      "cell_type": "code",
      "metadata": {
        "colab": {
          "base_uri": "https://localhost:8080/"
        },
        "id": "nz7UMunlZlyW",
        "outputId": "79f66fe6-38d2-46a2-c5d3-a84fd7b63574"
      },
      "source": [
        "TrSD={}\n",
        "for k in TrS:\n",
        "  TrSD[k]=getFrq(TrS[k])\n",
        "print(len(TrSD))\n",
        "print(len(TrSD[k]))"
      ],
      "execution_count": null,
      "outputs": [
        {
          "output_type": "stream",
          "text": [
            "2883\n",
            "343\n"
          ],
          "name": "stdout"
        }
      ]
    },
    {
      "cell_type": "code",
      "metadata": {
        "id": "23GaERk7aZJ-"
      },
      "source": [
        "with open(path+\"/traindata/ProteinData/PData.json\",\"w\") as f:\n",
        "  json.dump(TrSD,f)"
      ],
      "execution_count": null,
      "outputs": []
    },
    {
      "cell_type": "code",
      "metadata": {
        "id": "9AWC5GA0heBy"
      },
      "source": [
        "def dataGen(L):\n",
        "  global TrSD\n",
        "  Data=[];Label=[]\n",
        "  \n",
        "  for x in L:\n",
        "    p1=x[0];p2=x[1];cl=int(x[2])\n",
        "    d1= MutualFreq(TrSD[p1],TrSD[p2])\n",
        "    Data.append(d1)\n",
        "    Label.append(cl)\n",
        "  Dx={'data':Data,'label':Label}\n",
        "  return [Data,Label]\n",
        " "
      ],
      "execution_count": null,
      "outputs": []
    },
    {
      "cell_type": "code",
      "metadata": {
        "id": "7DbPTEQzcqRK"
      },
      "source": [
        "def writeFile(fpath,fname, Dt):\n",
        "  with open(\"{}{}.json\".format(fpath,fname),\"w\") as f:\n",
        "    json.dump(Dt,f)\n",
        "  print(\"File write Complete\")"
      ],
      "execution_count": null,
      "outputs": []
    },
    {
      "cell_type": "code",
      "metadata": {
        "id": "BMaEbVmjeIOh",
        "colab": {
          "base_uri": "https://localhost:8080/"
        },
        "outputId": "3a8c8734-1f22-49ea-ff6d-97a5e862708a"
      },
      "source": [
        "fnA=\"/traindata/ITR-1/SetA.json\"\n",
        "fnB=\"/traindata/ITR-1/SetB.json\"\n",
        "A=JSLD(path,fnA)\n",
        "B=JSLD(path,fnB)\n",
        "print(len(A), len(B))\n"
      ],
      "execution_count": null,
      "outputs": [
        {
          "output_type": "stream",
          "text": [
            "26840 26840\n"
          ],
          "name": "stdout"
        }
      ]
    },
    {
      "cell_type": "code",
      "metadata": {
        "colab": {
          "base_uri": "https://localhost:8080/"
        },
        "id": "VibdoQxsYuVJ",
        "outputId": "c46f1483-ed56-4c0d-ac3f-34e09739dcfb"
      },
      "source": [
        "3355*5"
      ],
      "execution_count": null,
      "outputs": [
        {
          "output_type": "execute_result",
          "data": {
            "text/plain": [
              "16775"
            ]
          },
          "metadata": {
            "tags": []
          },
          "execution_count": 21
        }
      ]
    },
    {
      "cell_type": "code",
      "metadata": {
        "id": "w9Eg0sbYjePt",
        "colab": {
          "base_uri": "https://localhost:8080/",
          "height": 52
        },
        "outputId": "c917b4bc-e316-4c62-d26c-db426af9cbad"
      },
      "source": [
        "\"\"\"\n",
        "Ax=dataGen(A)  #  /traindata/ITR-1/SetA.json\n",
        "writeFile(path+'/traindata/ITR-1/',\"SetAD\",Ax)\n",
        "Bx=dataGen(B)\n",
        "writeFile(path+'/traindata/ITR-1/',\"SetBD\",Bx)\n",
        "\"\"\""
      ],
      "execution_count": null,
      "outputs": [
        {
          "output_type": "execute_result",
          "data": {
            "application/vnd.google.colaboratory.intrinsic+json": {
              "type": "string"
            },
            "text/plain": [
              "'\\nAx=dataGen(A)  #  /traindata/ITR-1/SetA.json\\nwriteFile(path+\\'/traindata/ITR-1/\\',\"SetAD\",Ax)\\nBx=dataGen(B)\\nwriteFile(path+\\'/traindata/ITR-1/\\',\"SetBD\",Bx)\\n'"
            ]
          },
          "metadata": {
            "tags": []
          },
          "execution_count": 22
        }
      ]
    },
    {
      "cell_type": "code",
      "metadata": {
        "id": "tXdxGyTyibIR"
      },
      "source": [
        "from datetime import datetime\n",
        "from joblib import dump, load\n",
        "import os\n",
        "from pathlib import Path\n",
        "from sklearn import svm\n",
        "import numpy as np\n",
        "from sklearn.ensemble import RandomForestClassifier\n",
        "from sklearn.neighbors import KNeighborsClassifier\n",
        "from sklearn.metrics import confusion_matrix, roc_curve, auc, average_precision_score, recall_score, log_loss,\\\n",
        "accuracy_score,roc_auc_score,precision_recall_curve,f1_score,matthews_corrcoef"
      ],
      "execution_count": null,
      "outputs": []
    },
    {
      "cell_type": "code",
      "metadata": {
        "id": "6PeTlw3_kBzK"
      },
      "source": [
        "classifiersX = {\n",
        "  'SVM' : svm.SVC(C=2.0, kernel='rbf',gamma=0.0005, probability=True),#svm.SVC(kernel='linear', C=0.01),\n",
        "  'RF' : RandomForestClassifier(n_estimators=192,min_samples_leaf = 75),  # random_forest\n",
        "  #'decision_tree' : DecisionTreeClassifier(random_state=0),\n",
        "  'KNN' : KNeighborsClassifier(n_neighbors=7),  # kneighbors\n",
        "}"
      ],
      "execution_count": null,
      "outputs": []
    },
    {
      "cell_type": "code",
      "metadata": {
        "id": "Ybp0iaTVlHLv"
      },
      "source": [
        "def getFalsePos(predX,actualY,Ix):\n",
        "  FPI=[]\n",
        "  TP=FP=TN=FN=0\n",
        "  for i,a in enumerate(actualY):\n",
        "    if a==0:\n",
        "      #print(i,a, predX[i])\n",
        "    #if a==predX[i] and a==0:  it was  logically wrong for false positive(FP) computation. FP is those which are actually negative but predicted as positive\n",
        "      \n",
        "      if (predX[i]==1): # the corrected one\n",
        "        FPI.append(i);FP+=1\n",
        "      else:TN+=1\n",
        "\n",
        "    elif (a==1):\n",
        "      if (predX[i]==a): TP+=1\n",
        "      else: FN+=1\n",
        "\n",
        "  print(\"Total False Positive:fold-{}:: TP:{},FP:{},TN:{},FN:{}\".format(Ix,TP,FP,TN,FN))\n",
        "  return TP,FP,TN,FN\n"
      ],
      "execution_count": null,
      "outputs": []
    },
    {
      "cell_type": "code",
      "metadata": {
        "colab": {
          "base_uri": "https://localhost:8080/"
        },
        "id": "tyPiTdXtlGXy",
        "outputId": "c26475b0-4168-46b4-ca8b-1c1ffc39dbb7"
      },
      "source": [
        "def chunks(lst, n):\n",
        "    \"\"\"Yield successive n-sized chunks from lst.\"\"\"\n",
        "    for i in range(0, len(lst), n):\n",
        "        yield lst[i:i + n]\n",
        "D=[[1,2],[3,4],[5,6],[7,8,9]]\n",
        "XD= list(chunks(D, 2))\n",
        "print(XD)\n"
      ],
      "execution_count": null,
      "outputs": [
        {
          "output_type": "stream",
          "text": [
            "[[[1, 2], [3, 4]], [[5, 6], [7, 8, 9]]]\n"
          ],
          "name": "stdout"
        }
      ]
    },
    {
      "cell_type": "code",
      "metadata": {
        "id": "uqTSwb-4jAWA"
      },
      "source": [
        "def getPartition(D, L):\n",
        "  p=sum(L); n=len(L)-p\n",
        "  r=int(n/p)\n",
        "  print (r, p, n)\n",
        "  DL=[]; PS=[]; NS=[]; CL=[]\n",
        "  for i,a in enumerate(L):\n",
        "    if a==1: PS.append(D[i])\n",
        "    else: NS.append(D[i])\n",
        "  #print(len(NS))\n",
        "  NL=list(chunks(NS,p))\n",
        "  #print(len(NL))\n",
        "  \n",
        "\n",
        "  for k in NL:\n",
        "    #print(len(k))\n",
        "    \n",
        "    XL=[]; YL=[]\n",
        "    XL=PS+k\n",
        "    #XL+=k\n",
        "    YL=[1 for x in range (len(PS))]+[0 for x in range (len(k))]\n",
        "    #YL+=[0 for x in range (len(k))]\n",
        "    DL.append(np.array(XL)); CL.append(np.array(YL))\n",
        "    #print (len(XL), len(YL), len(k), len(PS))\n",
        "    #XL=[];YL=[]\n",
        "    \n",
        "  #print(len(DL), len(CL))\n",
        "  return DL, CL"
      ],
      "execution_count": null,
      "outputs": []
    },
    {
      "cell_type": "code",
      "metadata": {
        "id": "GFZxdGVItKn0"
      },
      "source": [
        "def writeTFile1(fpath,S):\n",
        "  f=open(\"{}\".format(fpath),\"a\")\n",
        "  f.write(S);f.close()\n",
        "  "
      ],
      "execution_count": null,
      "outputs": []
    },
    {
      "cell_type": "code",
      "metadata": {
        "id": "AU2gU_YkjZTY"
      },
      "source": [
        "def RunClassifier(Xi,Yi,Set, itr):\n",
        "  dI=np.array(Xi[0])\n",
        "  lI=np.array(Xi[1])\n",
        "  testD=np.array(Yi[0]);testL=np.array(Yi[1])\n",
        "  print(dI.shape,\": \" , lI.shape)\n",
        "  print(testD.shape,\": \" , testL.shape)\n",
        "  DL, CL = getPartition(Xi[0], Xi[1])\n",
        "  PRd={}\n",
        "  S=\"\"\n",
        "  for i,dataI in enumerate(DL): \n",
        "    labelI=CL[i]\n",
        "    clf=classifiersX['RF']\n",
        "    clf.fit(dataI, labelI)\n",
        "    dump(clf, path+\"/traindata/ITR-{}/{}-Model.joblib\".format(itr,Set))\n",
        "    \n",
        "\n",
        "    prediction = clf.predict(testD)\n",
        "    TP,FP,TN,FN=getFalsePos(prediction,testL, i)\n",
        "    PRd[i]=[[int(x) for x in (prediction)],Yi[1]]\n",
        "    # PRd first index == fold\n",
        "\n",
        "    probas_RF = clf.predict_proba(testD)\n",
        "\n",
        "    AUC=roc_auc_score(testL,probas_RF[:, 1])\n",
        "    ACCU=accuracy_score(testL,prediction)\n",
        "    preRF, recRF, thrRF = precision_recall_curve(testL, probas_RF[:,1])\n",
        "    AUPRC = auc(recRF, preRF)\n",
        "    f1_s=f1_score(testL, prediction)\n",
        "    mcc_s=matthews_corrcoef(testL, prediction)\n",
        "    DScore={\"AUC\":AUC, \"ACCU\": ACCU, \"AUPRC\": AUPRC, \"F1\": f1_s, \"MCC\": mcc_s }\n",
        "\n",
        "    S+=\"{},{},{},{},{},{},{},{},{},{},{},{}\\n\".format(itr,Set,i+1, AUC, ACCU,AUPRC,f1_s,mcc_s,TP,FP,TN,FN)\n",
        "    \n",
        "    #S=\"{}:AUC:{},ACCU:{},auPRC:{},F1:{},MCC;{}\\n\".format(i, AUC, ACCU,AUPRC,f1_s,mcc_s)\n",
        "    # dump DScore as json\n",
        "    #print(S)\n",
        "    #########\n",
        "    #rS=\"{},{},{}\".format(itr,Set,S)\n",
        "    \n",
        "    #writeTFile1(path+'/traindata/allResult.csv',rS)\n",
        "  \n",
        "    #########\n",
        "\n",
        "\n",
        "  with open(path+\"/traindata/ITR-{}/{}-predC.json\".format(itr,Set),\"w\") as f:\n",
        "    json.dump(PRd,f)\n",
        "  return FP,S"
      ],
      "execution_count": null,
      "outputs": []
    },
    {
      "cell_type": "code",
      "metadata": {
        "id": "A7bpHLb_rn0J"
      },
      "source": [
        "def writeTFile(fpath,fname,S):\n",
        "  f=open(\"{}{}.txt\".format(fpath,fname),\"w\")\n",
        "  f.write(S);f.close()"
      ],
      "execution_count": null,
      "outputs": []
    },
    {
      "cell_type": "code",
      "metadata": {
        "id": "2BVG4IjYpxJf"
      },
      "source": [
        "def UpdateItr(NS,B):\n",
        "  UB=[]\n",
        "  for i, a in enumerate(NS):\n",
        "      UB.append(B[a])\n",
        "  print(\"NewData Size= \", len(UB))\n",
        "  return UB\n"
      ],
      "execution_count": null,
      "outputs": []
    },
    {
      "cell_type": "code",
      "metadata": {
        "colab": {
          "base_uri": "https://localhost:8080/"
        },
        "id": "-2THg5owILkF",
        "outputId": "38c64ffe-1f04-48bf-98c1-746cd78e2712"
      },
      "source": [
        "x=[1,1,1]\n",
        "xyz=x[0]\n",
        "for k in range(len(x)-1):\n",
        "  xyz = xyz and x[k+1]\n",
        "print(xyz)"
      ],
      "execution_count": null,
      "outputs": [
        {
          "output_type": "stream",
          "text": [
            "1\n"
          ],
          "name": "stdout"
        }
      ]
    },
    {
      "cell_type": "code",
      "metadata": {
        "id": "ggDVszVxQRzF"
      },
      "source": [
        "def loadFP(Set, itr):\n",
        "  #Set=\"B\"\n",
        "  NewSet=[]\n",
        "\n",
        "  count=0; iz=0\n",
        "  with open(path+\"/traindata/ITR-{}/{}-predC.json\".format(itr,Set),\"r\") as f:\n",
        "    PRd= json.load(f)\n",
        "  AC=PRd['0'][1]\n",
        "  for k,a in enumerate(PRd['0'][0]):\n",
        "    \n",
        "    if (AC[k]==0):\n",
        "      nz=PRd['0'][0][k]\n",
        "      for ij in range(len(PRd)-1):\n",
        "        nz = nz and PRd[str(ij+1)][0][k]\n",
        "      #nz= PRd['0'][0][k] and PRd[\"1\"][0][k] and PRd[\"2\"][0][k] and PRd[\"3\"][0][k] and PRd[\"4\"][0][k] #number of false positives. all 1\n",
        "      \n",
        "      if nz==1:\n",
        "        count+=1\n",
        "      else:\n",
        "        NewSet.append(k)\n",
        "        iz+=1\n",
        "\n",
        "    else:\n",
        "      NewSet.append(k)\n",
        "\n",
        "  print (\"False Pos: {} ={}\".format(Set,count))\n",
        "  return NewSet\n",
        "  \n",
        "#updated negative set has become 16246\n",
        "#pos still 3355 \n",
        "#removed 529 values false pos\n",
        "#NS=loadFP(\"B\")"
      ],
      "execution_count": null,
      "outputs": []
    },
    {
      "cell_type": "code",
      "metadata": {
        "id": "jK2uATjUfNYi"
      },
      "source": [
        "def loadFPnew(Set, itr):\n",
        "  #Set=\"B\"\n",
        "  NewSet=[]\n",
        "\n",
        "  count=0; iz=0\n",
        "  with open(path+\"/traindata/ITR-{}/{}-predC.json\".format(itr,Set),\"r\") as f:\n",
        "    PRd= json.load(f)\n",
        "  AC=PRd['0'][1]\n",
        "  for k,a in enumerate(PRd['0'][0]):\n",
        "    \n",
        "    if (AC[k]==0):\n",
        "      nz=PRd['0'][0][k]\n",
        "      nzi=nz\n",
        "      for ij in range(len(PRd)-1):\n",
        "        nz = nz and PRd[str(ij+1)][0][k]\n",
        "        nzi+=PRd[str(ij+1)][0][k]\n",
        "      #nz= PRd['0'][0][k] and PRd[\"1\"][0][k] and PRd[\"2\"][0][k] and PRd[\"3\"][0][k] and PRd[\"4\"][0][k] #number of false positives. all 1\n",
        "      \n",
        "      if nzi>2:\n",
        "        count+=1\n",
        "      else:\n",
        "        NewSet.append(k)\n",
        "        iz+=1\n",
        "\n",
        "    else:\n",
        "      NewSet.append(k)\n",
        "\n",
        "  print (\"False Pos: {} ={}\".format(Set,count))\n",
        "  return NewSet\n",
        "  \n",
        "#updated negative set has become 16246\n",
        "#pos still 3355 \n",
        "#removed 529 values false pos\n",
        "#NS=loadFP(\"B\")"
      ],
      "execution_count": null,
      "outputs": []
    },
    {
      "cell_type": "code",
      "metadata": {
        "id": "RlZ-8iMAj04S"
      },
      "source": [
        "def Process(A,B,itr):\n",
        "  Ax=dataGen(A)  #  /traindata/ITR-1/SetA.json\n",
        "  writeFile(path+'/traindata/ITR-{}/'.format(itr),\"SetAD\",Ax)\n",
        "  Bx=dataGen(B)\n",
        "  writeFile(path+'/traindata/ITR-{}/'.format(itr),\"SetBD\",Bx)\n",
        "  FPb,SB=RunClassifier(Ax,Bx,\"B\",itr)\n",
        "  FPa,SA=RunClassifier(Bx,Ax,\"A\",itr)\n",
        "\n",
        "  #writeTFile(path+'/traindata/ITR-{}/'.format(itr),\"ResSetB\",SB)\n",
        "\n",
        "  #writeTFile(path+'/traindata/ITR-{}/'.format(itr),\"ResSetA\",SA)\n",
        "  \n",
        "  #rSB=\"{},{},{}\".format(itr,\"B\",SB)\n",
        "  #rSA=\"{},{},{}\".format(itr,\"A\",SA)\n",
        "\n",
        "  writeTFile1(path+'/traindata/allResult.csv',SB)\n",
        "  \n",
        "  writeTFile1(path+'/traindata/allResult.csv',SA)\n",
        " \n",
        "  print(\"B\")\n",
        "  NS=loadFP(\"B\", itr)\n",
        "  nB=UpdateItr(NS,B)\n",
        "\n",
        "  writeFile(path+'/traindata/ITR-{}/'.format(itr+1),\"SetB\",nB)\n",
        "  print(\"A\")\n",
        "  NS=loadFP(\"A\", itr)\n",
        "  nA=UpdateItr(NS,A)\n",
        "\n",
        "  writeFile(path+'/traindata/ITR-{}/'.format(itr+1),\"SetA\",nA)\n",
        "  return nA, nB"
      ],
      "execution_count": null,
      "outputs": []
    },
    {
      "cell_type": "code",
      "metadata": {
        "id": "YO65_JUddFyd",
        "colab": {
          "base_uri": "https://localhost:8080/"
        },
        "outputId": "c2ce8515-6f1f-4451-b01b-606bbd28068b"
      },
      "source": [
        "fnA=\"/traindata/ITR-21/SetA.json\"\n",
        "fnB=\"/traindata/ITR-21/SetB.json\"\n",
        "A=JSLD(path,fnA)\n",
        "B=JSLD(path,fnB)\n",
        "print(len(A), len(B))"
      ],
      "execution_count": null,
      "outputs": [
        {
          "output_type": "stream",
          "text": [
            "20485 20445\n"
          ],
          "name": "stdout"
        }
      ]
    },
    {
      "cell_type": "code",
      "metadata": {
        "colab": {
          "base_uri": "https://localhost:8080/"
        },
        "id": "vpHAcpfxjXWc",
        "outputId": "51315504-4954-4b84-f242-91dd106fdc4a"
      },
      "source": [
        "#S=\"itr,Set,Fold, AUC, ACCU,AUPRC,f1_s,mcc_s,TP,FP,TN,FN \\n\"\n",
        "#writeTFile(path+'/traindata/allResult.csv',rSA)\n",
        "#f=open(path+'/traindata/allResult.csv',\"w\")\n",
        "#f.write(S);f.close()\n",
        "\n",
        "for itr in range(22,51):\n",
        "  resDir=path+\"/traindata/ITR-{}\".format(itr)\n",
        "  resDir1=path+\"/traindata/ITR-{}\".format(itr+1)\n",
        "  if not os.path.exists(resDir):\n",
        "    os.makedirs(resDir)\n",
        "  if not os.path.exists(resDir1):\n",
        "    os.makedirs(resDir1)\n",
        "  print (\"A= {}, B={}\".format(len(A),len(B)))\n",
        "  A,B=Process(A,B,itr)\n",
        "  print(\"----------Iteration : {}-------------\".format(itr))"
      ],
      "execution_count": null,
      "outputs": [
        {
          "output_type": "stream",
          "text": [
            "A= 20485, B=20445\n",
            "File write Complete\n",
            "File write Complete\n",
            "(20485, 343) :  (20485,)\n",
            "(20445, 343) :  (20445,)\n",
            "5 3355 17130\n",
            "Total False Positive:fold-0:: TP:2244,FP:615,TN:16475,FN:1111\n",
            "Total False Positive:fold-1:: TP:2261,FP:861,TN:16229,FN:1094\n",
            "Total False Positive:fold-2:: TP:2206,FP:788,TN:16302,FN:1149\n",
            "Total False Positive:fold-3:: TP:2255,FP:903,TN:16187,FN:1100\n",
            "Total False Positive:fold-4:: TP:2235,FP:622,TN:16468,FN:1120\n",
            "Total False Positive:fold-5:: TP:3355,FP:17090,TN:0,FN:0\n"
          ],
          "name": "stdout"
        },
        {
          "output_type": "stream",
          "text": [
            "/usr/local/lib/python3.7/dist-packages/sklearn/metrics/_classification.py:900: RuntimeWarning: invalid value encountered in double_scalars\n",
            "  mcc = cov_ytyp / np.sqrt(cov_ytyt * cov_ypyp)\n"
          ],
          "name": "stderr"
        },
        {
          "output_type": "stream",
          "text": [
            "(20445, 343) :  (20445,)\n",
            "(20485, 343) :  (20485,)\n",
            "5 3355 17090\n",
            "Total False Positive:fold-0:: TP:2232,FP:714,TN:16416,FN:1123\n",
            "Total False Positive:fold-1:: TP:2226,FP:552,TN:16578,FN:1129\n",
            "Total False Positive:fold-2:: TP:2221,FP:939,TN:16191,FN:1134\n",
            "Total False Positive:fold-3:: TP:2281,FP:737,TN:16393,FN:1074\n",
            "Total False Positive:fold-4:: TP:2260,FP:734,TN:16396,FN:1095\n",
            "Total False Positive:fold-5:: TP:3355,FP:17130,TN:0,FN:0\n"
          ],
          "name": "stdout"
        },
        {
          "output_type": "stream",
          "text": [
            "/usr/local/lib/python3.7/dist-packages/sklearn/metrics/_classification.py:900: RuntimeWarning: invalid value encountered in double_scalars\n",
            "  mcc = cov_ytyp / np.sqrt(cov_ytyt * cov_ypyp)\n"
          ],
          "name": "stderr"
        },
        {
          "output_type": "stream",
          "text": [
            "B\n",
            "False Pos: B =130\n",
            "NewData Size=  20315\n",
            "File write Complete\n",
            "A\n",
            "False Pos: A =105\n",
            "NewData Size=  20380\n",
            "File write Complete\n",
            "----------Iteration : 22-------------\n",
            "A= 20380, B=20315\n",
            "File write Complete\n",
            "File write Complete\n",
            "(20380, 343) :  (20380,)\n",
            "(20315, 343) :  (20315,)\n",
            "5 3355 17025\n",
            "Total False Positive:fold-0:: TP:2223,FP:618,TN:16342,FN:1132\n",
            "Total False Positive:fold-1:: TP:2294,FP:928,TN:16032,FN:1061\n",
            "Total False Positive:fold-2:: TP:2212,FP:788,TN:16172,FN:1143\n",
            "Total False Positive:fold-3:: TP:2225,FP:763,TN:16197,FN:1130\n",
            "Total False Positive:fold-4:: TP:2241,FP:580,TN:16380,FN:1114\n",
            "Total False Positive:fold-5:: TP:3355,FP:16960,TN:0,FN:0\n"
          ],
          "name": "stdout"
        },
        {
          "output_type": "stream",
          "text": [
            "/usr/local/lib/python3.7/dist-packages/sklearn/metrics/_classification.py:900: RuntimeWarning: invalid value encountered in double_scalars\n",
            "  mcc = cov_ytyp / np.sqrt(cov_ytyt * cov_ypyp)\n"
          ],
          "name": "stderr"
        },
        {
          "output_type": "stream",
          "text": [
            "(20315, 343) :  (20315,)\n",
            "(20380, 343) :  (20380,)\n",
            "5 3355 16960\n",
            "Total False Positive:fold-0:: TP:2234,FP:696,TN:16329,FN:1121\n",
            "Total False Positive:fold-1:: TP:2265,FP:665,TN:16360,FN:1090\n",
            "Total False Positive:fold-2:: TP:2212,FP:967,TN:16058,FN:1143\n",
            "Total False Positive:fold-3:: TP:2273,FP:683,TN:16342,FN:1082\n",
            "Total False Positive:fold-4:: TP:2248,FP:711,TN:16314,FN:1107\n",
            "Total False Positive:fold-5:: TP:3355,FP:17025,TN:0,FN:0\n"
          ],
          "name": "stdout"
        },
        {
          "output_type": "stream",
          "text": [
            "/usr/local/lib/python3.7/dist-packages/sklearn/metrics/_classification.py:900: RuntimeWarning: invalid value encountered in double_scalars\n",
            "  mcc = cov_ytyp / np.sqrt(cov_ytyt * cov_ypyp)\n"
          ],
          "name": "stderr"
        },
        {
          "output_type": "stream",
          "text": [
            "B\n",
            "False Pos: B =106\n",
            "NewData Size=  20209\n",
            "File write Complete\n",
            "A\n",
            "False Pos: A =130\n",
            "NewData Size=  20250\n",
            "File write Complete\n",
            "----------Iteration : 23-------------\n",
            "A= 20250, B=20209\n",
            "File write Complete\n",
            "File write Complete\n",
            "(20250, 343) :  (20250,)\n",
            "(20209, 343) :  (20209,)\n",
            "5 3355 16895\n",
            "Total False Positive:fold-0:: TP:2224,FP:609,TN:16245,FN:1131\n",
            "Total False Positive:fold-1:: TP:2244,FP:890,TN:15964,FN:1111\n",
            "Total False Positive:fold-2:: TP:2217,FP:823,TN:16031,FN:1138\n",
            "Total False Positive:fold-3:: TP:2235,FP:741,TN:16113,FN:1120\n",
            "Total False Positive:fold-4:: TP:2227,FP:620,TN:16234,FN:1128\n",
            "Total False Positive:fold-5:: TP:3355,FP:16854,TN:0,FN:0\n"
          ],
          "name": "stdout"
        },
        {
          "output_type": "stream",
          "text": [
            "/usr/local/lib/python3.7/dist-packages/sklearn/metrics/_classification.py:900: RuntimeWarning: invalid value encountered in double_scalars\n",
            "  mcc = cov_ytyp / np.sqrt(cov_ytyt * cov_ypyp)\n"
          ],
          "name": "stderr"
        },
        {
          "output_type": "stream",
          "text": [
            "(20209, 343) :  (20209,)\n",
            "(20250, 343) :  (20250,)\n",
            "5 3355 16854\n",
            "Total False Positive:fold-0:: TP:2244,FP:640,TN:16255,FN:1111\n",
            "Total False Positive:fold-1:: TP:2256,FP:646,TN:16249,FN:1099\n",
            "Total False Positive:fold-2:: TP:2209,FP:950,TN:15945,FN:1146\n",
            "Total False Positive:fold-3:: TP:2253,FP:566,TN:16329,FN:1102\n",
            "Total False Positive:fold-4:: TP:2267,FP:702,TN:16193,FN:1088\n",
            "Total False Positive:fold-5:: TP:3355,FP:16895,TN:0,FN:0\n"
          ],
          "name": "stdout"
        },
        {
          "output_type": "stream",
          "text": [
            "/usr/local/lib/python3.7/dist-packages/sklearn/metrics/_classification.py:900: RuntimeWarning: invalid value encountered in double_scalars\n",
            "  mcc = cov_ytyp / np.sqrt(cov_ytyt * cov_ypyp)\n"
          ],
          "name": "stderr"
        },
        {
          "output_type": "stream",
          "text": [
            "B\n",
            "False Pos: B =156\n",
            "NewData Size=  20053\n",
            "File write Complete\n",
            "A\n",
            "False Pos: A =87\n",
            "NewData Size=  20163\n",
            "File write Complete\n",
            "----------Iteration : 24-------------\n",
            "A= 20163, B=20053\n",
            "File write Complete\n",
            "File write Complete\n",
            "(20163, 343) :  (20163,)\n",
            "(20053, 343) :  (20053,)\n",
            "5 3355 16808\n",
            "Total False Positive:fold-0:: TP:2217,FP:495,TN:16203,FN:1138\n",
            "Total False Positive:fold-1:: TP:2233,FP:801,TN:15897,FN:1122\n",
            "Total False Positive:fold-2:: TP:2205,FP:697,TN:16001,FN:1150\n",
            "Total False Positive:fold-3:: TP:2237,FP:729,TN:15969,FN:1118\n",
            "Total False Positive:fold-4:: TP:2211,FP:578,TN:16120,FN:1144\n",
            "Total False Positive:fold-5:: TP:3355,FP:16698,TN:0,FN:0\n"
          ],
          "name": "stdout"
        },
        {
          "output_type": "stream",
          "text": [
            "/usr/local/lib/python3.7/dist-packages/sklearn/metrics/_classification.py:900: RuntimeWarning: invalid value encountered in double_scalars\n",
            "  mcc = cov_ytyp / np.sqrt(cov_ytyt * cov_ypyp)\n"
          ],
          "name": "stderr"
        },
        {
          "output_type": "stream",
          "text": [
            "(20053, 343) :  (20053,)\n",
            "(20163, 343) :  (20163,)\n",
            "4 3355 16698\n",
            "Total False Positive:fold-0:: TP:2225,FP:588,TN:16220,FN:1130\n",
            "Total False Positive:fold-1:: TP:2268,FP:654,TN:16154,FN:1087\n",
            "Total False Positive:fold-2:: TP:2191,FP:961,TN:15847,FN:1164\n",
            "Total False Positive:fold-3:: TP:2254,FP:637,TN:16171,FN:1101\n",
            "Total False Positive:fold-4:: TP:2287,FP:950,TN:15858,FN:1068\n",
            "B\n",
            "False Pos: B =87\n",
            "NewData Size=  19966\n",
            "File write Complete\n",
            "A\n",
            "False Pos: A =138\n",
            "NewData Size=  20025\n",
            "File write Complete\n",
            "----------Iteration : 25-------------\n",
            "A= 20025, B=19966\n",
            "File write Complete\n",
            "File write Complete\n",
            "(20025, 343) :  (20025,)\n",
            "(19966, 343) :  (19966,)\n",
            "4 3355 16670\n",
            "Total False Positive:fold-0:: TP:2246,FP:531,TN:16080,FN:1109\n",
            "Total False Positive:fold-1:: TP:2252,FP:796,TN:15815,FN:1103\n",
            "Total False Positive:fold-2:: TP:2215,FP:767,TN:15844,FN:1140\n",
            "Total False Positive:fold-3:: TP:2230,FP:647,TN:15964,FN:1125\n",
            "Total False Positive:fold-4:: TP:2332,FP:699,TN:15912,FN:1023\n",
            "(19966, 343) :  (19966,)\n",
            "(20025, 343) :  (20025,)\n",
            "4 3355 16611\n",
            "Total False Positive:fold-0:: TP:2237,FP:570,TN:16100,FN:1118\n",
            "Total False Positive:fold-1:: TP:2244,FP:674,TN:15996,FN:1111\n",
            "Total False Positive:fold-2:: TP:2224,FP:856,TN:15814,FN:1131\n",
            "Total False Positive:fold-3:: TP:2258,FP:622,TN:16048,FN:1097\n",
            "Total False Positive:fold-4:: TP:2342,FP:1070,TN:15600,FN:1013\n",
            "B\n",
            "False Pos: B =140\n",
            "NewData Size=  19826\n",
            "File write Complete\n",
            "A\n",
            "False Pos: A =88\n",
            "NewData Size=  19937\n",
            "File write Complete\n",
            "----------Iteration : 26-------------\n",
            "A= 19937, B=19826\n",
            "File write Complete\n",
            "File write Complete\n",
            "(19937, 343) :  (19937,)\n",
            "(19826, 343) :  (19826,)\n",
            "4 3355 16582\n",
            "Total False Positive:fold-0:: TP:2231,FP:446,TN:16025,FN:1124\n",
            "Total False Positive:fold-1:: TP:2250,FP:636,TN:15835,FN:1105\n",
            "Total False Positive:fold-2:: TP:2215,FP:713,TN:15758,FN:1140\n",
            "Total False Positive:fold-3:: TP:2245,FP:649,TN:15822,FN:1110\n",
            "Total False Positive:fold-4:: TP:2387,FP:845,TN:15626,FN:968\n",
            "(19826, 343) :  (19826,)\n",
            "(19937, 343) :  (19937,)\n",
            "4 3355 16471\n",
            "Total False Positive:fold-0:: TP:2234,FP:519,TN:16063,FN:1121\n",
            "Total False Positive:fold-1:: TP:2273,FP:731,TN:15851,FN:1082\n",
            "Total False Positive:fold-2:: TP:2203,FP:737,TN:15845,FN:1152\n",
            "Total False Positive:fold-3:: TP:2258,FP:590,TN:15992,FN:1097\n",
            "Total False Positive:fold-4:: TP:2507,FP:1483,TN:15099,FN:848\n",
            "B\n",
            "False Pos: B =94\n",
            "NewData Size=  19732\n",
            "File write Complete\n",
            "A\n",
            "False Pos: A =171\n",
            "NewData Size=  19766\n",
            "File write Complete\n",
            "----------Iteration : 27-------------\n",
            "A= 19766, B=19732\n",
            "File write Complete\n",
            "File write Complete\n",
            "(19766, 343) :  (19766,)\n",
            "(19732, 343) :  (19732,)\n",
            "4 3355 16411\n",
            "Total False Positive:fold-0:: TP:2212,FP:459,TN:15918,FN:1143\n",
            "Total False Positive:fold-1:: TP:2253,FP:691,TN:15686,FN:1102\n",
            "Total False Positive:fold-2:: TP:2192,FP:553,TN:15824,FN:1163\n",
            "Total False Positive:fold-3:: TP:2236,FP:673,TN:15704,FN:1119\n",
            "Total False Positive:fold-4:: TP:2524,FP:1339,TN:15038,FN:831\n",
            "(19732, 343) :  (19732,)\n",
            "(19766, 343) :  (19766,)\n",
            "4 3355 16377\n",
            "Total False Positive:fold-0:: TP:2241,FP:404,TN:16007,FN:1114\n",
            "Total False Positive:fold-1:: TP:2242,FP:581,TN:15830,FN:1113\n",
            "Total False Positive:fold-2:: TP:2213,FP:620,TN:15791,FN:1142\n",
            "Total False Positive:fold-3:: TP:2255,FP:525,TN:15886,FN:1100\n",
            "Total False Positive:fold-4:: TP:2574,FP:1773,TN:14638,FN:781\n",
            "B\n",
            "False Pos: B =104\n",
            "NewData Size=  19628\n",
            "File write Complete\n",
            "A\n",
            "False Pos: A =70\n",
            "NewData Size=  19696\n",
            "File write Complete\n",
            "----------Iteration : 28-------------\n",
            "A= 19696, B=19628\n",
            "File write Complete\n",
            "File write Complete\n",
            "(19696, 343) :  (19696,)\n",
            "(19628, 343) :  (19628,)\n",
            "4 3355 16341\n",
            "Total False Positive:fold-0:: TP:2213,FP:438,TN:15835,FN:1142\n",
            "Total False Positive:fold-1:: TP:2275,FP:668,TN:15605,FN:1080\n",
            "Total False Positive:fold-2:: TP:2199,FP:550,TN:15723,FN:1156\n",
            "Total False Positive:fold-3:: TP:2254,FP:723,TN:15550,FN:1101\n",
            "Total False Positive:fold-4:: TP:2572,FP:1592,TN:14681,FN:783\n",
            "(19628, 343) :  (19628,)\n",
            "(19696, 343) :  (19696,)\n",
            "4 3355 16273\n",
            "Total False Positive:fold-0:: TP:2228,FP:395,TN:15946,FN:1127\n",
            "Total False Positive:fold-1:: TP:2231,FP:542,TN:15799,FN:1124\n",
            "Total False Positive:fold-2:: TP:2212,FP:565,TN:15776,FN:1143\n",
            "Total False Positive:fold-3:: TP:2244,FP:429,TN:15912,FN:1111\n",
            "Total False Positive:fold-4:: TP:2676,FP:1997,TN:14344,FN:679\n",
            "B\n",
            "False Pos: B =111\n",
            "NewData Size=  19517\n",
            "File write Complete\n",
            "A\n",
            "False Pos: A =53\n",
            "NewData Size=  19643\n",
            "File write Complete\n",
            "----------Iteration : 29-------------\n",
            "A= 19643, B=19517\n",
            "File write Complete\n",
            "File write Complete\n",
            "(19643, 343) :  (19643,)\n",
            "(19517, 343) :  (19517,)\n",
            "4 3355 16288\n",
            "Total False Positive:fold-0:: TP:2205,FP:434,TN:15728,FN:1150\n",
            "Total False Positive:fold-1:: TP:2251,FP:518,TN:15644,FN:1104\n",
            "Total False Positive:fold-2:: TP:2235,FP:514,TN:15648,FN:1120\n",
            "Total False Positive:fold-3:: TP:2253,FP:534,TN:15628,FN:1102\n",
            "Total False Positive:fold-4:: TP:2648,FP:1752,TN:14410,FN:707\n",
            "(19517, 343) :  (19517,)\n",
            "(19643, 343) :  (19643,)\n",
            "4 3355 16162\n",
            "Total False Positive:fold-0:: TP:2230,FP:424,TN:15864,FN:1125\n",
            "Total False Positive:fold-1:: TP:2223,FP:519,TN:15769,FN:1132\n",
            "Total False Positive:fold-2:: TP:2215,FP:551,TN:15737,FN:1140\n",
            "Total False Positive:fold-3:: TP:2224,FP:533,TN:15755,FN:1131\n",
            "Total False Positive:fold-4:: TP:2750,FP:2710,TN:13578,FN:605\n",
            "B\n",
            "False Pos: B =47\n",
            "NewData Size=  19470\n",
            "File write Complete\n",
            "A\n",
            "False Pos: A =115\n",
            "NewData Size=  19528\n",
            "File write Complete\n",
            "----------Iteration : 30-------------\n",
            "A= 19528, B=19470\n",
            "File write Complete\n",
            "File write Complete\n",
            "(19528, 343) :  (19528,)\n",
            "(19470, 343) :  (19470,)\n",
            "4 3355 16173\n",
            "Total False Positive:fold-0:: TP:2226,FP:464,TN:15651,FN:1129\n",
            "Total False Positive:fold-1:: TP:2259,FP:587,TN:15528,FN:1096\n",
            "Total False Positive:fold-2:: TP:2218,FP:630,TN:15485,FN:1137\n",
            "Total False Positive:fold-3:: TP:2252,FP:496,TN:15619,FN:1103\n",
            "Total False Positive:fold-4:: TP:2720,FP:2314,TN:13801,FN:635\n",
            "(19470, 343) :  (19470,)\n",
            "(19528, 343) :  (19528,)\n",
            "4 3355 16115\n",
            "Total False Positive:fold-0:: TP:2228,FP:441,TN:15732,FN:1127\n",
            "Total False Positive:fold-1:: TP:2253,FP:461,TN:15712,FN:1102\n",
            "Total False Positive:fold-2:: TP:2247,FP:571,TN:15602,FN:1108\n",
            "Total False Positive:fold-3:: TP:2265,FP:497,TN:15676,FN:1090\n",
            "Total False Positive:fold-4:: TP:2802,FP:2929,TN:13244,FN:553\n",
            "B\n",
            "False Pos: B =127\n",
            "NewData Size=  19343\n",
            "File write Complete\n",
            "A\n",
            "False Pos: A =52\n",
            "NewData Size=  19476\n",
            "File write Complete\n",
            "----------Iteration : 31-------------\n",
            "A= 19476, B=19343\n",
            "File write Complete\n",
            "File write Complete\n",
            "(19476, 343) :  (19476,)\n",
            "(19343, 343) :  (19343,)\n",
            "4 3355 16121\n",
            "Total False Positive:fold-0:: TP:2226,FP:502,TN:15486,FN:1129\n",
            "Total False Positive:fold-1:: TP:2255,FP:474,TN:15514,FN:1100\n",
            "Total False Positive:fold-2:: TP:2209,FP:430,TN:15558,FN:1146\n",
            "Total False Positive:fold-3:: TP:2270,FP:533,TN:15455,FN:1085\n",
            "Total False Positive:fold-4:: TP:2779,FP:2525,TN:13463,FN:576\n",
            "(19343, 343) :  (19343,)\n",
            "(19476, 343) :  (19476,)\n",
            "4 3355 15988\n",
            "Total False Positive:fold-0:: TP:2245,FP:423,TN:15698,FN:1110\n",
            "Total False Positive:fold-1:: TP:2191,FP:523,TN:15598,FN:1164\n",
            "Total False Positive:fold-2:: TP:2219,FP:591,TN:15530,FN:1136\n",
            "Total False Positive:fold-3:: TP:2276,FP:449,TN:15672,FN:1079\n",
            "Total False Positive:fold-4:: TP:2905,FP:3849,TN:12272,FN:450\n",
            "B\n",
            "False Pos: B =56\n",
            "NewData Size=  19287\n",
            "File write Complete\n",
            "A\n",
            "False Pos: A =81\n",
            "NewData Size=  19395\n",
            "File write Complete\n",
            "----------Iteration : 32-------------\n",
            "A= 19395, B=19287\n",
            "File write Complete\n",
            "File write Complete\n",
            "(19395, 343) :  (19395,)\n",
            "(19287, 343) :  (19287,)\n",
            "4 3355 16040\n",
            "Total False Positive:fold-0:: TP:2216,FP:442,TN:15490,FN:1139\n",
            "Total False Positive:fold-1:: TP:2284,FP:453,TN:15479,FN:1071\n",
            "Total False Positive:fold-2:: TP:2208,FP:439,TN:15493,FN:1147\n",
            "Total False Positive:fold-3:: TP:2230,FP:496,TN:15436,FN:1125\n",
            "Total False Positive:fold-4:: TP:2852,FP:3191,TN:12741,FN:503\n",
            "(19287, 343) :  (19287,)\n",
            "(19395, 343) :  (19395,)\n",
            "4 3355 15932\n",
            "Total False Positive:fold-0:: TP:2244,FP:457,TN:15583,FN:1111\n",
            "Total False Positive:fold-1:: TP:2227,FP:535,TN:15505,FN:1128\n",
            "Total False Positive:fold-2:: TP:2208,FP:589,TN:15451,FN:1147\n",
            "Total False Positive:fold-3:: TP:2262,FP:499,TN:15541,FN:1093\n",
            "Total False Positive:fold-4:: TP:2912,FP:3952,TN:12088,FN:443\n",
            "B\n",
            "False Pos: B =76\n",
            "NewData Size=  19211\n",
            "File write Complete\n",
            "A\n",
            "False Pos: A =71\n",
            "NewData Size=  19324\n",
            "File write Complete\n",
            "----------Iteration : 33-------------\n",
            "A= 19324, B=19211\n",
            "File write Complete\n",
            "File write Complete\n",
            "(19324, 343) :  (19324,)\n",
            "(19211, 343) :  (19211,)\n",
            "4 3355 15969\n",
            "Total False Positive:fold-0:: TP:2216,FP:426,TN:15430,FN:1139\n",
            "Total False Positive:fold-1:: TP:2236,FP:405,TN:15451,FN:1119\n",
            "Total False Positive:fold-2:: TP:2187,FP:410,TN:15446,FN:1168\n",
            "Total False Positive:fold-3:: TP:2255,FP:407,TN:15449,FN:1100\n",
            "Total False Positive:fold-4:: TP:2910,FP:3502,TN:12354,FN:445\n",
            "(19211, 343) :  (19211,)\n",
            "(19324, 343) :  (19324,)\n",
            "4 3355 15856\n",
            "Total False Positive:fold-0:: TP:2288,FP:460,TN:15509,FN:1067\n",
            "Total False Positive:fold-1:: TP:2241,FP:603,TN:15366,FN:1114\n",
            "Total False Positive:fold-2:: TP:2231,FP:576,TN:15393,FN:1124\n",
            "Total False Positive:fold-3:: TP:2270,FP:460,TN:15509,FN:1085\n",
            "Total False Positive:fold-4:: TP:3011,FP:4858,TN:11111,FN:344\n",
            "B\n",
            "False Pos: B =35\n",
            "NewData Size=  19176\n",
            "File write Complete\n",
            "A\n",
            "False Pos: A =67\n",
            "NewData Size=  19257\n",
            "File write Complete\n",
            "----------Iteration : 34-------------\n",
            "A= 19257, B=19176\n",
            "File write Complete\n",
            "File write Complete\n",
            "(19257, 343) :  (19257,)\n",
            "(19176, 343) :  (19176,)\n",
            "4 3355 15902\n",
            "Total False Positive:fold-0:: TP:2218,FP:502,TN:15319,FN:1137\n",
            "Total False Positive:fold-1:: TP:2262,FP:508,TN:15313,FN:1093\n",
            "Total False Positive:fold-2:: TP:2217,FP:441,TN:15380,FN:1138\n",
            "Total False Positive:fold-3:: TP:2257,FP:499,TN:15322,FN:1098\n",
            "Total False Positive:fold-4:: TP:2960,FP:4046,TN:11775,FN:395\n",
            "(19176, 343) :  (19176,)\n",
            "(19257, 343) :  (19257,)\n",
            "4 3355 15821\n",
            "Total False Positive:fold-0:: TP:2244,FP:347,TN:15555,FN:1111\n",
            "Total False Positive:fold-1:: TP:2238,FP:490,TN:15412,FN:1117\n",
            "Total False Positive:fold-2:: TP:2250,FP:612,TN:15290,FN:1105\n",
            "Total False Positive:fold-3:: TP:2281,FP:454,TN:15448,FN:1074\n",
            "Total False Positive:fold-4:: TP:3011,FP:4962,TN:10940,FN:344\n",
            "B\n",
            "False Pos: B =95\n",
            "NewData Size=  19081\n",
            "File write Complete\n",
            "A\n",
            "False Pos: A =76\n",
            "NewData Size=  19181\n",
            "File write Complete\n",
            "----------Iteration : 35-------------\n",
            "A= 19181, B=19081\n",
            "File write Complete\n",
            "File write Complete\n",
            "(19181, 343) :  (19181,)\n",
            "(19081, 343) :  (19081,)\n",
            "4 3355 15826\n",
            "Total False Positive:fold-0:: TP:2228,FP:468,TN:15258,FN:1127\n",
            "Total False Positive:fold-1:: TP:2249,FP:394,TN:15332,FN:1106\n",
            "Total False Positive:fold-2:: TP:2219,FP:415,TN:15311,FN:1136\n",
            "Total False Positive:fold-3:: TP:2262,FP:514,TN:15212,FN:1093\n",
            "Total False Positive:fold-4:: TP:3019,FP:4533,TN:11193,FN:336\n",
            "(19081, 343) :  (19081,)\n",
            "(19181, 343) :  (19181,)\n",
            "4 3355 15726\n",
            "Total False Positive:fold-0:: TP:2237,FP:341,TN:15485,FN:1118\n",
            "Total False Positive:fold-1:: TP:2261,FP:461,TN:15365,FN:1094\n",
            "Total False Positive:fold-2:: TP:2226,FP:442,TN:15384,FN:1129\n",
            "Total False Positive:fold-3:: TP:2264,FP:478,TN:15348,FN:1091\n",
            "Total False Positive:fold-4:: TP:3087,FP:5872,TN:9954,FN:268\n",
            "B\n",
            "False Pos: B =113\n",
            "NewData Size=  18968\n",
            "File write Complete\n",
            "A\n",
            "False Pos: A =44\n",
            "NewData Size=  19137\n",
            "File write Complete\n",
            "----------Iteration : 36-------------\n",
            "A= 19137, B=18968\n",
            "File write Complete\n",
            "File write Complete\n",
            "(19137, 343) :  (19137,)\n",
            "(18968, 343) :  (18968,)\n",
            "4 3355 15782\n",
            "Total False Positive:fold-0:: TP:2230,FP:347,TN:15266,FN:1125\n",
            "Total False Positive:fold-1:: TP:2262,FP:339,TN:15274,FN:1093\n",
            "Total False Positive:fold-2:: TP:2231,FP:393,TN:15220,FN:1124\n",
            "Total False Positive:fold-3:: TP:2238,FP:400,TN:15213,FN:1117\n",
            "Total False Positive:fold-4:: TP:3069,FP:5180,TN:10433,FN:286\n",
            "(18968, 343) :  (18968,)\n",
            "(19137, 343) :  (19137,)\n",
            "4 3355 15613\n",
            "Total False Positive:fold-0:: TP:2223,FP:379,TN:15403,FN:1132\n",
            "Total False Positive:fold-1:: TP:2247,FP:562,TN:15220,FN:1108\n",
            "Total False Positive:fold-2:: TP:2249,FP:591,TN:15191,FN:1106\n",
            "Total False Positive:fold-3:: TP:2290,FP:571,TN:15211,FN:1065\n",
            "Total False Positive:fold-4:: TP:3178,FP:7235,TN:8547,FN:177\n",
            "B\n",
            "False Pos: B =49\n",
            "NewData Size=  18919\n",
            "File write Complete\n",
            "A\n",
            "False Pos: A =120\n",
            "NewData Size=  19017\n",
            "File write Complete\n",
            "----------Iteration : 37-------------\n",
            "A= 19017, B=18919\n",
            "File write Complete\n",
            "File write Complete\n",
            "(19017, 343) :  (19017,)\n",
            "(18919, 343) :  (18919,)\n",
            "4 3355 15662\n",
            "Total False Positive:fold-0:: TP:2240,FP:392,TN:15172,FN:1115\n",
            "Total False Positive:fold-1:: TP:2250,FP:390,TN:15174,FN:1105\n",
            "Total False Positive:fold-2:: TP:2220,FP:455,TN:15109,FN:1135\n",
            "Total False Positive:fold-3:: TP:2257,FP:426,TN:15138,FN:1098\n",
            "Total False Positive:fold-4:: TP:3147,FP:6155,TN:9409,FN:208\n",
            "(18919, 343) :  (18919,)\n",
            "(19017, 343) :  (19017,)\n",
            "4 3355 15564\n",
            "Total False Positive:fold-0:: TP:2247,FP:329,TN:15333,FN:1108\n",
            "Total False Positive:fold-1:: TP:2264,FP:479,TN:15183,FN:1091\n",
            "Total False Positive:fold-2:: TP:2231,FP:409,TN:15253,FN:1124\n",
            "Total False Positive:fold-3:: TP:2275,FP:379,TN:15283,FN:1080\n",
            "Total False Positive:fold-4:: TP:3191,FP:7495,TN:8167,FN:164\n",
            "B\n",
            "False Pos: B =62\n",
            "NewData Size=  18857\n",
            "File write Complete\n",
            "A\n",
            "False Pos: A =30\n",
            "NewData Size=  18987\n",
            "File write Complete\n",
            "----------Iteration : 38-------------\n",
            "A= 18987, B=18857\n",
            "File write Complete\n",
            "File write Complete\n",
            "(18987, 343) :  (18987,)\n",
            "(18857, 343) :  (18857,)\n",
            "4 3355 15632\n",
            "Total False Positive:fold-0:: TP:2242,FP:375,TN:15127,FN:1113\n",
            "Total False Positive:fold-1:: TP:2259,FP:343,TN:15159,FN:1096\n",
            "Total False Positive:fold-2:: TP:2234,FP:393,TN:15109,FN:1121\n",
            "Total False Positive:fold-3:: TP:2272,FP:381,TN:15121,FN:1083\n",
            "Total False Positive:fold-4:: TP:3147,FP:6402,TN:9100,FN:208\n",
            "(18857, 343) :  (18857,)\n",
            "(18987, 343) :  (18987,)\n",
            "4 3355 15502\n",
            "Total False Positive:fold-0:: TP:2247,FP:285,TN:15347,FN:1108\n",
            "Total False Positive:fold-1:: TP:2223,FP:442,TN:15190,FN:1132\n",
            "Total False Positive:fold-2:: TP:2228,FP:458,TN:15174,FN:1127\n",
            "Total False Positive:fold-3:: TP:2279,FP:349,TN:15283,FN:1076\n",
            "Total False Positive:fold-4:: TP:3218,FP:8177,TN:7455,FN:137\n",
            "B\n",
            "False Pos: B =38\n",
            "NewData Size=  18819\n",
            "File write Complete\n",
            "A\n",
            "False Pos: A =38\n",
            "NewData Size=  18949\n",
            "File write Complete\n",
            "----------Iteration : 39-------------\n",
            "A= 18949, B=18819\n",
            "File write Complete\n",
            "File write Complete\n",
            "(18949, 343) :  (18949,)\n",
            "(18819, 343) :  (18819,)\n",
            "4 3355 15594\n",
            "Total False Positive:fold-0:: TP:2214,FP:331,TN:15133,FN:1141\n",
            "Total False Positive:fold-1:: TP:2263,FP:305,TN:15159,FN:1092\n",
            "Total False Positive:fold-2:: TP:2238,FP:377,TN:15087,FN:1117\n",
            "Total False Positive:fold-3:: TP:2228,FP:335,TN:15129,FN:1127\n",
            "Total False Positive:fold-4:: TP:3185,FP:6963,TN:8501,FN:170\n",
            "(18819, 343) :  (18819,)\n",
            "(18949, 343) :  (18949,)\n",
            "4 3355 15464\n",
            "Total False Positive:fold-0:: TP:2231,FP:417,TN:15177,FN:1124\n",
            "Total False Positive:fold-1:: TP:2261,FP:468,TN:15126,FN:1094\n",
            "Total False Positive:fold-2:: TP:2220,FP:378,TN:15216,FN:1135\n",
            "Total False Positive:fold-3:: TP:2269,FP:406,TN:15188,FN:1086\n",
            "Total False Positive:fold-4:: TP:3241,FP:8713,TN:6881,FN:114\n",
            "B\n",
            "False Pos: B =26\n",
            "NewData Size=  18793\n",
            "File write Complete\n",
            "A\n",
            "False Pos: A =40\n",
            "NewData Size=  18909\n",
            "File write Complete\n",
            "----------Iteration : 40-------------\n",
            "A= 18909, B=18793\n",
            "File write Complete\n",
            "File write Complete\n",
            "(18909, 343) :  (18909,)\n",
            "(18793, 343) :  (18793,)\n",
            "4 3355 15554\n",
            "Total False Positive:fold-0:: TP:2238,FP:369,TN:15069,FN:1117\n",
            "Total False Positive:fold-1:: TP:2261,FP:295,TN:15143,FN:1094\n",
            "Total False Positive:fold-2:: TP:2238,FP:415,TN:15023,FN:1117\n",
            "Total False Positive:fold-3:: TP:2264,FP:371,TN:15067,FN:1091\n",
            "Total False Positive:fold-4:: TP:3184,FP:7270,TN:8168,FN:171\n",
            "(18793, 343) :  (18793,)\n",
            "(18909, 343) :  (18909,)\n",
            "4 3355 15438\n",
            "Total False Positive:fold-0:: TP:2252,FP:334,TN:15220,FN:1103\n",
            "Total False Positive:fold-1:: TP:2261,FP:445,TN:15109,FN:1094\n",
            "Total False Positive:fold-2:: TP:2245,FP:453,TN:15101,FN:1110\n",
            "Total False Positive:fold-3:: TP:2251,FP:349,TN:15205,FN:1104\n",
            "Total False Positive:fold-4:: TP:3242,FP:8859,TN:6695,FN:113\n",
            "B\n",
            "False Pos: B =25\n",
            "NewData Size=  18768\n",
            "File write Complete\n",
            "A\n",
            "False Pos: A =32\n",
            "NewData Size=  18877\n",
            "File write Complete\n",
            "----------Iteration : 41-------------\n",
            "A= 18877, B=18768\n",
            "File write Complete\n",
            "File write Complete\n",
            "(18877, 343) :  (18877,)\n",
            "(18768, 343) :  (18768,)\n",
            "4 3355 15522\n",
            "Total False Positive:fold-0:: TP:2268,FP:399,TN:15014,FN:1087\n",
            "Total False Positive:fold-1:: TP:2235,FP:266,TN:15147,FN:1120\n",
            "Total False Positive:fold-2:: TP:2214,FP:371,TN:15042,FN:1141\n",
            "Total False Positive:fold-3:: TP:2269,FP:400,TN:15013,FN:1086\n",
            "Total False Positive:fold-4:: TP:3223,FP:7904,TN:7509,FN:132\n",
            "(18768, 343) :  (18768,)\n",
            "(18877, 343) :  (18877,)\n",
            "4 3355 15413\n",
            "Total False Positive:fold-0:: TP:2250,FP:338,TN:15184,FN:1105\n",
            "Total False Positive:fold-1:: TP:2256,FP:392,TN:15130,FN:1099\n",
            "Total False Positive:fold-2:: TP:2223,FP:374,TN:15148,FN:1132\n",
            "Total False Positive:fold-3:: TP:2277,FP:368,TN:15154,FN:1078\n",
            "Total False Positive:fold-4:: TP:3249,FP:9138,TN:6384,FN:106\n",
            "B\n",
            "False Pos: B =19\n",
            "NewData Size=  18749\n",
            "File write Complete\n",
            "A\n",
            "False Pos: A =25\n",
            "NewData Size=  18852\n",
            "File write Complete\n",
            "----------Iteration : 42-------------\n",
            "A= 18852, B=18749\n",
            "File write Complete\n",
            "File write Complete\n",
            "(18852, 343) :  (18852,)\n",
            "(18749, 343) :  (18749,)\n",
            "4 3355 15497\n",
            "Total False Positive:fold-0:: TP:2218,FP:357,TN:15037,FN:1137\n",
            "Total False Positive:fold-1:: TP:2243,FP:345,TN:15049,FN:1112\n",
            "Total False Positive:fold-2:: TP:2254,FP:343,TN:15051,FN:1101\n",
            "Total False Positive:fold-3:: TP:2259,FP:473,TN:14921,FN:1096\n",
            "Total False Positive:fold-4:: TP:3224,FP:8203,TN:7191,FN:131\n",
            "(18749, 343) :  (18749,)\n",
            "(18852, 343) :  (18852,)\n",
            "4 3355 15394\n",
            "Total False Positive:fold-0:: TP:2245,FP:304,TN:15193,FN:1110\n",
            "Total False Positive:fold-1:: TP:2267,FP:431,TN:15066,FN:1088\n",
            "Total False Positive:fold-2:: TP:2242,FP:351,TN:15146,FN:1113\n",
            "Total False Positive:fold-3:: TP:2272,FP:345,TN:15152,FN:1083\n",
            "Total False Positive:fold-4:: TP:3271,FP:9532,TN:5965,FN:84\n",
            "B\n",
            "False Pos: B =23\n",
            "NewData Size=  18726\n",
            "File write Complete\n",
            "A\n",
            "False Pos: A =36\n",
            "NewData Size=  18816\n",
            "File write Complete\n",
            "----------Iteration : 43-------------\n",
            "A= 18816, B=18726\n",
            "File write Complete\n",
            "File write Complete\n",
            "(18816, 343) :  (18816,)\n",
            "(18726, 343) :  (18726,)\n",
            "4 3355 15461\n",
            "Total False Positive:fold-0:: TP:2258,FP:348,TN:15023,FN:1097\n",
            "Total False Positive:fold-1:: TP:2244,FP:422,TN:14949,FN:1111\n",
            "Total False Positive:fold-2:: TP:2232,FP:341,TN:15030,FN:1123\n",
            "Total False Positive:fold-3:: TP:2261,FP:482,TN:14889,FN:1094\n",
            "Total False Positive:fold-4:: TP:3251,FP:8607,TN:6764,FN:104\n",
            "(18726, 343) :  (18726,)\n",
            "(18816, 343) :  (18816,)\n",
            "4 3355 15371\n",
            "Total False Positive:fold-0:: TP:2239,FP:227,TN:15234,FN:1116\n",
            "Total False Positive:fold-1:: TP:2248,FP:370,TN:15091,FN:1107\n",
            "Total False Positive:fold-2:: TP:2236,FP:326,TN:15135,FN:1119\n",
            "Total False Positive:fold-3:: TP:2286,FP:390,TN:15071,FN:1069\n",
            "Total False Positive:fold-4:: TP:3272,FP:9663,TN:5798,FN:83\n",
            "B\n",
            "False Pos: B =43\n",
            "NewData Size=  18683\n",
            "File write Complete\n",
            "A\n",
            "False Pos: A =29\n",
            "NewData Size=  18787\n",
            "File write Complete\n",
            "----------Iteration : 44-------------\n",
            "A= 18787, B=18683\n",
            "File write Complete\n",
            "File write Complete\n",
            "(18787, 343) :  (18787,)\n",
            "(18683, 343) :  (18683,)\n",
            "4 3355 15432\n",
            "Total False Positive:fold-0:: TP:2207,FP:350,TN:14978,FN:1148\n",
            "Total False Positive:fold-1:: TP:2286,FP:340,TN:14988,FN:1069\n",
            "Total False Positive:fold-2:: TP:2248,FP:450,TN:14878,FN:1107\n",
            "Total False Positive:fold-3:: TP:2271,FP:354,TN:14974,FN:1084\n",
            "Total False Positive:fold-4:: TP:3252,FP:8837,TN:6491,FN:103\n",
            "(18683, 343) :  (18683,)\n",
            "(18787, 343) :  (18787,)\n",
            "4 3355 15328\n",
            "Total False Positive:fold-0:: TP:2275,FP:307,TN:15125,FN:1080\n",
            "Total False Positive:fold-1:: TP:2251,FP:396,TN:15036,FN:1104\n",
            "Total False Positive:fold-2:: TP:2274,FP:420,TN:15012,FN:1081\n",
            "Total False Positive:fold-3:: TP:2290,FP:322,TN:15110,FN:1065\n",
            "Total False Positive:fold-4:: TP:3288,FP:10408,TN:5024,FN:67\n",
            "B\n",
            "False Pos: B =29\n",
            "NewData Size=  18654\n",
            "File write Complete\n",
            "A\n",
            "False Pos: A =25\n",
            "NewData Size=  18762\n",
            "File write Complete\n",
            "----------Iteration : 45-------------\n",
            "A= 18762, B=18654\n",
            "File write Complete\n",
            "File write Complete\n",
            "(18762, 343) :  (18762,)\n",
            "(18654, 343) :  (18654,)\n",
            "4 3355 15407\n",
            "Total False Positive:fold-0:: TP:2264,FP:346,TN:14953,FN:1091\n",
            "Total False Positive:fold-1:: TP:2257,FP:285,TN:15014,FN:1098\n",
            "Total False Positive:fold-2:: TP:2226,FP:322,TN:14977,FN:1129\n",
            "Total False Positive:fold-3:: TP:2246,FP:425,TN:14874,FN:1109\n",
            "Total False Positive:fold-4:: TP:3266,FP:9269,TN:6030,FN:89\n",
            "(18654, 343) :  (18654,)\n",
            "(18762, 343) :  (18762,)\n",
            "4 3355 15299\n",
            "Total False Positive:fold-0:: TP:2246,FP:271,TN:15136,FN:1109\n",
            "Total False Positive:fold-1:: TP:2267,FP:442,TN:14965,FN:1088\n",
            "Total False Positive:fold-2:: TP:2227,FP:386,TN:15021,FN:1128\n",
            "Total False Positive:fold-3:: TP:2303,FP:324,TN:15083,FN:1052\n",
            "Total False Positive:fold-4:: TP:3298,FP:10458,TN:4949,FN:57\n",
            "B\n",
            "False Pos: B =25\n",
            "NewData Size=  18629\n",
            "File write Complete\n",
            "A\n",
            "False Pos: A =34\n",
            "NewData Size=  18728\n",
            "File write Complete\n",
            "----------Iteration : 46-------------\n",
            "A= 18728, B=18629\n",
            "File write Complete\n",
            "File write Complete\n",
            "(18728, 343) :  (18728,)\n",
            "(18629, 343) :  (18629,)\n",
            "4 3355 15373\n",
            "Total False Positive:fold-0:: TP:2258,FP:222,TN:15052,FN:1097\n",
            "Total False Positive:fold-1:: TP:2258,FP:296,TN:14978,FN:1097\n",
            "Total False Positive:fold-2:: TP:2248,FP:379,TN:14895,FN:1107\n",
            "Total False Positive:fold-3:: TP:2259,FP:411,TN:14863,FN:1096\n",
            "Total False Positive:fold-4:: TP:3278,FP:9571,TN:5703,FN:77\n",
            "(18629, 343) :  (18629,)\n",
            "(18728, 343) :  (18728,)\n",
            "4 3355 15274\n",
            "Total False Positive:fold-0:: TP:2260,FP:415,TN:14958,FN:1095\n",
            "Total False Positive:fold-1:: TP:2271,FP:416,TN:14957,FN:1084\n",
            "Total False Positive:fold-2:: TP:2246,FP:366,TN:15007,FN:1109\n",
            "Total False Positive:fold-3:: TP:2282,FP:316,TN:15057,FN:1073\n",
            "Total False Positive:fold-4:: TP:3314,FP:10988,TN:4385,FN:41\n",
            "B\n",
            "False Pos: B =38\n",
            "NewData Size=  18591\n",
            "File write Complete\n",
            "A\n",
            "False Pos: A =43\n",
            "NewData Size=  18685\n",
            "File write Complete\n",
            "----------Iteration : 47-------------\n",
            "A= 18685, B=18591\n",
            "File write Complete\n",
            "File write Complete\n",
            "(18685, 343) :  (18685,)\n",
            "(18591, 343) :  (18591,)\n",
            "4 3355 15330\n",
            "Total False Positive:fold-0:: TP:2286,FP:298,TN:14938,FN:1069\n",
            "Total False Positive:fold-1:: TP:2306,FP:273,TN:14963,FN:1049\n",
            "Total False Positive:fold-2:: TP:2265,FP:359,TN:14877,FN:1090\n",
            "Total False Positive:fold-3:: TP:2265,FP:364,TN:14872,FN:1090\n",
            "Total False Positive:fold-4:: TP:3284,FP:10164,TN:5072,FN:71\n",
            "(18591, 343) :  (18591,)\n",
            "(18685, 343) :  (18685,)\n",
            "4 3355 15236\n",
            "Total False Positive:fold-0:: TP:2256,FP:317,TN:15013,FN:1099\n",
            "Total False Positive:fold-1:: TP:2257,FP:403,TN:14927,FN:1098\n",
            "Total False Positive:fold-2:: TP:2253,FP:371,TN:14959,FN:1102\n",
            "Total False Positive:fold-3:: TP:2277,FP:387,TN:14943,FN:1078\n",
            "Total False Positive:fold-4:: TP:3312,FP:11492,TN:3838,FN:43\n",
            "B\n",
            "False Pos: B =49\n",
            "NewData Size=  18542\n",
            "File write Complete\n",
            "A\n",
            "False Pos: A =36\n",
            "NewData Size=  18649\n",
            "File write Complete\n",
            "----------Iteration : 48-------------\n",
            "A= 18649, B=18542\n",
            "File write Complete\n",
            "File write Complete\n",
            "(18649, 343) :  (18649,)\n",
            "(18542, 343) :  (18542,)\n",
            "4 3355 15294\n",
            "Total False Positive:fold-0:: TP:2233,FP:284,TN:14903,FN:1122\n",
            "Total False Positive:fold-1:: TP:2285,FP:283,TN:14904,FN:1070\n",
            "Total False Positive:fold-2:: TP:2233,FP:338,TN:14849,FN:1122\n",
            "Total False Positive:fold-3:: TP:2265,FP:374,TN:14813,FN:1090\n",
            "Total False Positive:fold-4:: TP:3297,FP:10319,TN:4868,FN:58\n",
            "(18542, 343) :  (18542,)\n",
            "(18649, 343) :  (18649,)\n",
            "4 3355 15187\n",
            "Total False Positive:fold-0:: TP:2271,FP:332,TN:14962,FN:1084\n",
            "Total False Positive:fold-1:: TP:2265,FP:397,TN:14897,FN:1090\n",
            "Total False Positive:fold-2:: TP:2252,FP:386,TN:14908,FN:1103\n",
            "Total False Positive:fold-3:: TP:2290,FP:293,TN:15001,FN:1065\n",
            "Total False Positive:fold-4:: TP:3326,FP:11821,TN:3473,FN:29\n",
            "B\n",
            "False Pos: B =21\n",
            "NewData Size=  18521\n",
            "File write Complete\n",
            "A\n",
            "False Pos: A =39\n",
            "NewData Size=  18610\n",
            "File write Complete\n",
            "----------Iteration : 49-------------\n",
            "A= 18610, B=18521\n",
            "File write Complete\n",
            "File write Complete\n",
            "(18610, 343) :  (18610,)\n",
            "(18521, 343) :  (18521,)\n",
            "4 3355 15255\n",
            "Total False Positive:fold-0:: TP:2262,FP:319,TN:14847,FN:1093\n",
            "Total False Positive:fold-1:: TP:2276,FP:351,TN:14815,FN:1079\n",
            "Total False Positive:fold-2:: TP:2239,FP:329,TN:14837,FN:1116\n",
            "Total False Positive:fold-3:: TP:2272,FP:425,TN:14741,FN:1083\n",
            "Total False Positive:fold-4:: TP:3300,FP:10850,TN:4316,FN:55\n",
            "(18521, 343) :  (18521,)\n",
            "(18610, 343) :  (18610,)\n",
            "4 3355 15166\n",
            "Total False Positive:fold-0:: TP:2226,FP:348,TN:14907,FN:1129\n",
            "Total False Positive:fold-1:: TP:2289,FP:420,TN:14835,FN:1066\n",
            "Total False Positive:fold-2:: TP:2258,FP:319,TN:14936,FN:1097\n",
            "Total False Positive:fold-3:: TP:2288,FP:306,TN:14949,FN:1067\n",
            "Total False Positive:fold-4:: TP:3328,FP:12237,TN:3018,FN:27\n",
            "B\n",
            "False Pos: B =19\n",
            "NewData Size=  18502\n",
            "File write Complete\n",
            "A\n",
            "False Pos: A =11\n",
            "NewData Size=  18599\n",
            "File write Complete\n",
            "----------Iteration : 50-------------\n"
          ],
          "name": "stdout"
        }
      ]
    },
    {
      "cell_type": "code",
      "metadata": {
        "id": "Y9GQ1uw9mKS0"
      },
      "source": [
        "####NOT REQ"
      ],
      "execution_count": null,
      "outputs": []
    },
    {
      "cell_type": "code",
      "metadata": {
        "id": "0Xl2JvJQe_Om"
      },
      "source": [
        "print(\"B\")\n",
        "NS=loadFP(\"B\")\n",
        "nB=UpdateItr(NS,B)\n",
        "\n",
        "writeFile(path+'/traindata/ITR-2/',\"SetB\",nB)\n",
        "print(\"A\")\n",
        "NS=loadFP(\"A\")\n",
        "nA=UpdateItr(NS,A)\n",
        "\n",
        "writeFile(path+'/traindata/ITR-2/',\"SetA\",nA)"
      ],
      "execution_count": null,
      "outputs": []
    },
    {
      "cell_type": "code",
      "metadata": {
        "id": "H0wXulsmf8nQ"
      },
      "source": [
        "#Second Iteration\n",
        "A=nA\n",
        "B=nB\n"
      ],
      "execution_count": null,
      "outputs": []
    },
    {
      "cell_type": "code",
      "metadata": {
        "id": "TTbemIHmXE5o"
      },
      "source": [
        "#iz+count\n",
        "3355*6 - 529\n",
        "19601-3355\n"
      ],
      "execution_count": null,
      "outputs": []
    },
    {
      "cell_type": "code",
      "metadata": {
        "id": "p_JHz1S_UZR3"
      },
      "source": [
        "print(1 and 1 and 0)"
      ],
      "execution_count": null,
      "outputs": []
    },
    {
      "cell_type": "code",
      "metadata": {
        "id": "cFLCdyeVU58c"
      },
      "source": [
        "############################\n",
        "\"\"\"\n",
        "FPa,SA=RunClassifier(Bx,Ax,\"A\")\n",
        "nA=UpdateItr(FPa,A)\n",
        "\n",
        "writeTFile(path+'/traindata/ITR-1/',\"ResSetA\",SA)\n",
        "writeFile(path+'/traindata/ITR-2/',\"SetA\",nA)\n",
        "\"\"\""
      ],
      "execution_count": null,
      "outputs": []
    }
  ]
}